{
 "cells": [
  {
   "cell_type": "code",
   "execution_count": 6,
   "metadata": {},
   "outputs": [],
   "source": [
    "import numpy\n",
    "import pandas as pd\n",
    "import seaborn as sns\n",
    "import sklearn as scikit_learn"
   ]
  },
  {
   "cell_type": "code",
   "execution_count": 7,
   "metadata": {},
   "outputs": [
    {
     "name": "stderr",
     "output_type": "stream",
     "text": [
      "/Users/gsochaj/Library/Python/3.9/lib/python/site-packages/IPython/core/interactiveshell.py:3441: DtypeWarning: Columns (5,7) have mixed types.Specify dtype option on import or set low_memory=False.\n",
      "  exec(code_obj, self.user_global_ns, self.user_ns)\n"
     ]
    }
   ],
   "source": [
    "df_ludnosc = pd.read_csv(\"../data/ludnosc.csv\", sep=\";\")\n",
    "df_gminy = pd.read_csv(\"../data/gminy.csv\", sep=\";\")"
   ]
  },
  {
   "cell_type": "code",
   "execution_count": 8,
   "metadata": {},
   "outputs": [
    {
     "data": {
      "text/plain": "      Kategoria  Kod   Nazwa                              Zmienna   Rok  \\\n0  Gospodarstwa    0  POLSKA  gospodarstwa domowe objęte badaniem  1999   \n1  Gospodarstwa    0  POLSKA  gospodarstwa domowe objęte badaniem  2000   \n2  Gospodarstwa    0  POLSKA  gospodarstwa domowe objęte badaniem  2001   \n3  Gospodarstwa    0  POLSKA  gospodarstwa domowe objęte badaniem  2002   \n4  Gospodarstwa    0  POLSKA  gospodarstwa domowe objęte badaniem  2003   \n\n  Wartosc Jednostka miary Atrybut  Unnamed: 8  \n0   31428           gosp.     NaN         NaN  \n1   36163           gosp.     NaN         NaN  \n2   31847           gosp.     NaN         NaN  \n3   32342           gosp.     NaN         NaN  \n4   32452           gosp.     NaN         NaN  ",
      "text/html": "<div>\n<style scoped>\n    .dataframe tbody tr th:only-of-type {\n        vertical-align: middle;\n    }\n\n    .dataframe tbody tr th {\n        vertical-align: top;\n    }\n\n    .dataframe thead th {\n        text-align: right;\n    }\n</style>\n<table border=\"1\" class=\"dataframe\">\n  <thead>\n    <tr style=\"text-align: right;\">\n      <th></th>\n      <th>Kategoria</th>\n      <th>Kod</th>\n      <th>Nazwa</th>\n      <th>Zmienna</th>\n      <th>Rok</th>\n      <th>Wartosc</th>\n      <th>Jednostka miary</th>\n      <th>Atrybut</th>\n      <th>Unnamed: 8</th>\n    </tr>\n  </thead>\n  <tbody>\n    <tr>\n      <th>0</th>\n      <td>Gospodarstwa</td>\n      <td>0</td>\n      <td>POLSKA</td>\n      <td>gospodarstwa domowe objęte badaniem</td>\n      <td>1999</td>\n      <td>31428</td>\n      <td>gosp.</td>\n      <td>NaN</td>\n      <td>NaN</td>\n    </tr>\n    <tr>\n      <th>1</th>\n      <td>Gospodarstwa</td>\n      <td>0</td>\n      <td>POLSKA</td>\n      <td>gospodarstwa domowe objęte badaniem</td>\n      <td>2000</td>\n      <td>36163</td>\n      <td>gosp.</td>\n      <td>NaN</td>\n      <td>NaN</td>\n    </tr>\n    <tr>\n      <th>2</th>\n      <td>Gospodarstwa</td>\n      <td>0</td>\n      <td>POLSKA</td>\n      <td>gospodarstwa domowe objęte badaniem</td>\n      <td>2001</td>\n      <td>31847</td>\n      <td>gosp.</td>\n      <td>NaN</td>\n      <td>NaN</td>\n    </tr>\n    <tr>\n      <th>3</th>\n      <td>Gospodarstwa</td>\n      <td>0</td>\n      <td>POLSKA</td>\n      <td>gospodarstwa domowe objęte badaniem</td>\n      <td>2002</td>\n      <td>32342</td>\n      <td>gosp.</td>\n      <td>NaN</td>\n      <td>NaN</td>\n    </tr>\n    <tr>\n      <th>4</th>\n      <td>Gospodarstwa</td>\n      <td>0</td>\n      <td>POLSKA</td>\n      <td>gospodarstwa domowe objęte badaniem</td>\n      <td>2003</td>\n      <td>32452</td>\n      <td>gosp.</td>\n      <td>NaN</td>\n      <td>NaN</td>\n    </tr>\n  </tbody>\n</table>\n</div>"
     },
     "execution_count": 8,
     "metadata": {},
     "output_type": "execute_result"
    }
   ],
   "source": [
    "df_ludnosc.head()"
   ]
  },
  {
   "cell_type": "code",
   "execution_count": 9,
   "outputs": [
    {
     "data": {
      "text/plain": "  Kategoria  Kod   Nazwa           Zmienna   Rok Wartosc Jednostka miary  \\\n0   Ludność    0  POLSKA  ludność na 1 km2  2002   122.0           osoba   \n1   Ludność    0  POLSKA  ludność na 1 km2  2003   122.0           osoba   \n2   Ludność    0  POLSKA  ludność na 1 km2  2004   122.0           osoba   \n3   Ludność    0  POLSKA  ludność na 1 km2  2005   122.0           osoba   \n4   Ludność    0  POLSKA  ludność na 1 km2  2006   122.0           osoba   \n\n  Atrybut  Unnamed: 8  \n0     NaN         NaN  \n1     NaN         NaN  \n2     NaN         NaN  \n3     NaN         NaN  \n4     NaN         NaN  ",
      "text/html": "<div>\n<style scoped>\n    .dataframe tbody tr th:only-of-type {\n        vertical-align: middle;\n    }\n\n    .dataframe tbody tr th {\n        vertical-align: top;\n    }\n\n    .dataframe thead th {\n        text-align: right;\n    }\n</style>\n<table border=\"1\" class=\"dataframe\">\n  <thead>\n    <tr style=\"text-align: right;\">\n      <th></th>\n      <th>Kategoria</th>\n      <th>Kod</th>\n      <th>Nazwa</th>\n      <th>Zmienna</th>\n      <th>Rok</th>\n      <th>Wartosc</th>\n      <th>Jednostka miary</th>\n      <th>Atrybut</th>\n      <th>Unnamed: 8</th>\n    </tr>\n  </thead>\n  <tbody>\n    <tr>\n      <th>0</th>\n      <td>Ludność</td>\n      <td>0</td>\n      <td>POLSKA</td>\n      <td>ludność na 1 km2</td>\n      <td>2002</td>\n      <td>122.0</td>\n      <td>osoba</td>\n      <td>NaN</td>\n      <td>NaN</td>\n    </tr>\n    <tr>\n      <th>1</th>\n      <td>Ludność</td>\n      <td>0</td>\n      <td>POLSKA</td>\n      <td>ludność na 1 km2</td>\n      <td>2003</td>\n      <td>122.0</td>\n      <td>osoba</td>\n      <td>NaN</td>\n      <td>NaN</td>\n    </tr>\n    <tr>\n      <th>2</th>\n      <td>Ludność</td>\n      <td>0</td>\n      <td>POLSKA</td>\n      <td>ludność na 1 km2</td>\n      <td>2004</td>\n      <td>122.0</td>\n      <td>osoba</td>\n      <td>NaN</td>\n      <td>NaN</td>\n    </tr>\n    <tr>\n      <th>3</th>\n      <td>Ludność</td>\n      <td>0</td>\n      <td>POLSKA</td>\n      <td>ludność na 1 km2</td>\n      <td>2005</td>\n      <td>122.0</td>\n      <td>osoba</td>\n      <td>NaN</td>\n      <td>NaN</td>\n    </tr>\n    <tr>\n      <th>4</th>\n      <td>Ludność</td>\n      <td>0</td>\n      <td>POLSKA</td>\n      <td>ludność na 1 km2</td>\n      <td>2006</td>\n      <td>122.0</td>\n      <td>osoba</td>\n      <td>NaN</td>\n      <td>NaN</td>\n    </tr>\n  </tbody>\n</table>\n</div>"
     },
     "execution_count": 9,
     "metadata": {},
     "output_type": "execute_result"
    }
   ],
   "source": [
    "df_gminy.head()"
   ],
   "metadata": {
    "collapsed": false,
    "pycharm": {
     "name": "#%%\n"
    }
   }
  },
  {
   "cell_type": "code",
   "execution_count": 10,
   "metadata": {},
   "outputs": [
    {
     "name": "stdout",
     "output_type": "stream",
     "text": [
      "Kategoria - ['Gospodarstwa' 'Osoby' 'Wyposażenie' 'Artykuły' 'Dochody' 'Wydatki']\n",
      "\n",
      "Kod - [      0  200000  400000  600000  800000 1000000 1200000 1400000 1600000\n",
      " 1800000 2000000 2200000 2400000 2600000 2800000 3000000 3200000]\n",
      "\n",
      "Nazwa - ['POLSKA' 'DOLNOŚLĄSKIE' 'KUJAWSKO-POMORSKIE' 'LUBELSKIE' 'LUBUSKIE'\n",
      " 'ŁÓDZKIE' 'MAŁOPOLSKIE' 'MAZOWIECKIE' 'OPOLSKIE' 'PODKARPACKIE'\n",
      " 'PODLASKIE' 'POMORSKIE' 'ŚLĄSKIE' 'ŚWIĘTOKRZYSKIE' 'WARMIŃSKO-MAZURSKIE'\n",
      " 'WIELKOPOLSKIE' 'ZACHODNIOPOMORSKIE']\n",
      "\n",
      "Zmienna - ['gospodarstwa domowe objęte badaniem' 'ogółem' 'pracujących'\n",
      " 'pobierający świadczenia społeczne' 'emerytury i renty'\n",
      " 'pozostających na utrzymaniu'\n",
      " 'przeciętna liczba osób pobierających  świadczenia społeczne w relacji do przeciętnej liczby osób w gospodarstwie domowym'\n",
      " 'chłodziarka' 'automat pralniczy' 'zmywarka do naczyń'\n",
      " 'kuchenka mikrofalowa'\n",
      " 'kuchenka elektryczna z płytą ceramiczną, indukcyjną' 'samochód osobowy'\n",
      " 'odtwarzacz płyt kompaktowych'\n",
      " 'zestaw do odbioru, rejestracji i odtwarzania dźwięku (wieża HI-FI)'\n",
      " 'odbiornik telewizyjny' 'zestaw kina domowego' 'odtwarzacz DVD'\n",
      " 'telefon komórkowy' 'smartfon' 'magnetowid, odtwarzacz'\n",
      " 'urządzenie do odbioru telewizji satelitarnej'\n",
      " 'urządzenie do odbioru telewizji satelitarnej lub kablowej'\n",
      " 'komputer osobisty ogółem' 'komputer osobisty z dostępem do Internetu'\n",
      " 'komputer osobisty z szerokopasmowym dostępem do Internetu'\n",
      " 'urządzenie z dostępem do Internetu' 'drukarka' 'drukarka wielofunkcyjna'\n",
      " 'pieczywo i produkty zbożowe' 'pieczywo' 'mięso' 'mięso surowe'\n",
      " 'mięso surowe drobiowe' 'wędliny i inne przetwory mięsne' 'wędliny'\n",
      " 'ryby' 'ryby i owoce morza' 'mleko świeże' 'jogurty i napoje mleczne'\n",
      " 'jogurty'\n",
      " 'mleko (bez zagęszczonego i w proszku), napoje mleczne i jogurty'\n",
      " 'sery i twarogi' 'jaja' 'oleje i tłuszcze' 'owoce' 'warzywa' 'ziemniaki'\n",
      " 'cukier' 'z pracy najemnej' 'z gospodarstwa indywidualnego w rolnictwie'\n",
      " 'z pracy na własny rachunek'\n",
      " 'przeciętny miesięczny dochód rozporządzalny na 1 osobę  z gospodarstwa indywidualnego w rolnictwie w relacji do przeciętnego miesięcznego dochodu na 1 osobę z pracy na własny rachunek'\n",
      " 'ze świadczeń społecznych'\n",
      " 'ze świadczeń społecznych; w tym ze świadczenia wychowawczego Rodzina 500+\"\"'\n",
      " 'dochód do dyspozycji' 'ogółem, Polska = 100'\n",
      " 'towary i usługi konsumpcyjne' 'żywność i napoje bezalkoholowe'\n",
      " 'napoje alkoholowe i wyroby tytoniowe' 'odzież i obuwie'\n",
      " 'użytkowanie mieszkania lub domu i nośniki energii'\n",
      " 'wyposażenie mieszkania i prowadzenie gospodarstwa domowego' 'zdrowie'\n",
      " 'transport' 'łączność' 'rekreacja i kultura' 'edukacja'\n",
      " 'restauracje i hotele' 'pozostałe wydatki na towary i usługi'\n",
      " 'ogółem (BAEL)' 'towary i usługi konsumpcyjne (BAEL)'\n",
      " 'udział wydatków na żywność i napoje bezalkoholowe w wydatkach ogółem'\n",
      " 'udział wydatków na użytkowanie mieszkania i nośniki energii w wydatkach ogółem']\n",
      "\n",
      "Rok - [1999 2000 2001 2002 2003 2004 2005 2006 2007 2008 2009 2010 2011 2012\n",
      " 2013 2014 2015 2016 2017 2018 2019 2020 1998]\n",
      "\n",
      "Wartosc - ['31428' '36163' '31847' ... '77,46' '73,17' '654,69']\n",
      "\n",
      "Jednostka miary - ['gosp.' 'osoba' '-' '%' 'kg' 'l' 'szt.' 'zł']\n",
      "\n",
      "Atrybut - [nan 'm' 'x']\n",
      "\n",
      "Unnamed: 8 - [nan]\n",
      "\n"
     ]
    }
   ],
   "source": [
    "for col in df_ludnosc.columns:\n",
    "    print(f'{col} - {df_ludnosc[col].unique()}\\n')"
   ]
  },
  {
   "cell_type": "code",
   "execution_count": 11,
   "outputs": [
    {
     "name": "stdout",
     "output_type": "stream",
     "text": [
      "Kategoria - ['Ludność' 'Ludność wg grup wieku' 'Mężczyźni wg grup wieku'\n",
      " 'Kobiety wg grup wieku' 'Bezrobocie' 'Skolaryzacja' 'Dochody per capita'\n",
      " 'Wydatki per capita']\n",
      "\n",
      "Kod - [      0  200000  201000 ... 1431001 1431141 1431981]\n",
      "\n",
      "Nazwa - ['POLSKA' 'DOLNOŚLĄSKIE' 'Powiat bolesławiecki' ...\n",
      " 'M.st.Warszawa do 2001 (1)' 'Warszawa - Ursus do 2001 (1)'\n",
      " 'Związek gmin dzielnic Warszawy do 2001 (1)']\n",
      "\n",
      "Zmienna - ['ludność na 1 km2' 'ogółem' '0-14' '15-64' '65 i więcej'\n",
      " 'urodzenia żywe na 1000 ludności' 'zgony na 1000 ludności'\n",
      " 'przyrost naturalny na 1000 ludności' 'mężczyźni' 'kobiety'\n",
      " 'szkoły podstawowe' 'gimnazja' 'w Dziale 801- Oświata i wychowanie'\n",
      " 'w Dziale 921 - Kultura i ochrona dziedzictwa narodowego'\n",
      " 'wydatki w rozdziale 90005 Ochrona powietrza atmosferycznego i klimatu'\n",
      " 'wydatki majątkowe']\n",
      "\n",
      "Rok - [2002 2003 2004 2005 2006 2007 2008 2009 2010 2011 2012 2013 2014 2015\n",
      " 2016 2017 2018 2019 2020 2001]\n",
      "\n",
      "Wartosc - [122.0 123.0 146.0 ... '120,84' '5256' '9089']\n",
      "\n",
      "Jednostka miary - ['osoba' '-' '%' 'zł']\n",
      "\n",
      "Atrybut - [nan 'x' 'z' 'a' 'k']\n",
      "\n",
      "Unnamed: 8 - [nan]\n",
      "\n"
     ]
    }
   ],
   "source": [
    "for col in df_gminy.columns:\n",
    "    print(f'{col} - {df_gminy[col].unique()}\\n')"
   ],
   "metadata": {
    "collapsed": false,
    "pycharm": {
     "name": "#%%\n"
    }
   }
  },
  {
   "cell_type": "code",
   "execution_count": 12,
   "outputs": [
    {
     "data": {
      "text/plain": "array(['POLSKA', 'DOLNOŚLĄSKIE', 'Powiat bolesławiecki', ...,\n       'M.st.Warszawa do 2001 (1)', 'Warszawa - Ursus do 2001 (1)',\n       'Związek gmin dzielnic Warszawy do 2001 (1)'], dtype=object)"
     },
     "execution_count": 12,
     "metadata": {},
     "output_type": "execute_result"
    }
   ],
   "source": [
    "df_gminy['Nazwa'].unique()"
   ],
   "metadata": {
    "collapsed": false,
    "pycharm": {
     "name": "#%%\n"
    }
   }
  },
  {
   "cell_type": "code",
   "execution_count": 13,
   "outputs": [
    {
     "data": {
      "text/plain": "                  Kategoria      Kod            Nazwa            Zmienna  \\\n0                   Ludność        0           POLSKA   ludność na 1 km2   \n1                   Ludność        0           POLSKA   ludność na 1 km2   \n2                   Ludność        0           POLSKA   ludność na 1 km2   \n3                   Ludność        0           POLSKA   ludność na 1 km2   \n4                   Ludność        0           POLSKA   ludność na 1 km2   \n...                     ...      ...              ...                ...   \n1971426  Wydatki per capita  3263011  Świnoujście (1)  wydatki majątkowe   \n1971427  Wydatki per capita  3263011  Świnoujście (1)  wydatki majątkowe   \n1971428  Wydatki per capita  3263011  Świnoujście (1)  wydatki majątkowe   \n1971429  Wydatki per capita  3263011  Świnoujście (1)  wydatki majątkowe   \n1971430  Wydatki per capita  3263011  Świnoujście (1)  wydatki majątkowe   \n\n          Rok Wartosc Jednostka miary Atrybut  Unnamed: 8  \n0        2002   122.0           osoba     NaN         NaN  \n1        2003   122.0           osoba     NaN         NaN  \n2        2004   122.0           osoba     NaN         NaN  \n3        2005   122.0           osoba     NaN         NaN  \n4        2006   122.0           osoba     NaN         NaN  \n...       ...     ...             ...     ...         ...  \n1971426  2016    1114              zł     NaN         NaN  \n1971427  2017    1024              zł     NaN         NaN  \n1971428  2018    3206              zł     NaN         NaN  \n1971429  2019    5256              zł     NaN         NaN  \n1971430  2020    9089              zł     NaN         NaN  \n\n[1971431 rows x 9 columns]",
      "text/html": "<div>\n<style scoped>\n    .dataframe tbody tr th:only-of-type {\n        vertical-align: middle;\n    }\n\n    .dataframe tbody tr th {\n        vertical-align: top;\n    }\n\n    .dataframe thead th {\n        text-align: right;\n    }\n</style>\n<table border=\"1\" class=\"dataframe\">\n  <thead>\n    <tr style=\"text-align: right;\">\n      <th></th>\n      <th>Kategoria</th>\n      <th>Kod</th>\n      <th>Nazwa</th>\n      <th>Zmienna</th>\n      <th>Rok</th>\n      <th>Wartosc</th>\n      <th>Jednostka miary</th>\n      <th>Atrybut</th>\n      <th>Unnamed: 8</th>\n    </tr>\n  </thead>\n  <tbody>\n    <tr>\n      <th>0</th>\n      <td>Ludność</td>\n      <td>0</td>\n      <td>POLSKA</td>\n      <td>ludność na 1 km2</td>\n      <td>2002</td>\n      <td>122.0</td>\n      <td>osoba</td>\n      <td>NaN</td>\n      <td>NaN</td>\n    </tr>\n    <tr>\n      <th>1</th>\n      <td>Ludność</td>\n      <td>0</td>\n      <td>POLSKA</td>\n      <td>ludność na 1 km2</td>\n      <td>2003</td>\n      <td>122.0</td>\n      <td>osoba</td>\n      <td>NaN</td>\n      <td>NaN</td>\n    </tr>\n    <tr>\n      <th>2</th>\n      <td>Ludność</td>\n      <td>0</td>\n      <td>POLSKA</td>\n      <td>ludność na 1 km2</td>\n      <td>2004</td>\n      <td>122.0</td>\n      <td>osoba</td>\n      <td>NaN</td>\n      <td>NaN</td>\n    </tr>\n    <tr>\n      <th>3</th>\n      <td>Ludność</td>\n      <td>0</td>\n      <td>POLSKA</td>\n      <td>ludność na 1 km2</td>\n      <td>2005</td>\n      <td>122.0</td>\n      <td>osoba</td>\n      <td>NaN</td>\n      <td>NaN</td>\n    </tr>\n    <tr>\n      <th>4</th>\n      <td>Ludność</td>\n      <td>0</td>\n      <td>POLSKA</td>\n      <td>ludność na 1 km2</td>\n      <td>2006</td>\n      <td>122.0</td>\n      <td>osoba</td>\n      <td>NaN</td>\n      <td>NaN</td>\n    </tr>\n    <tr>\n      <th>...</th>\n      <td>...</td>\n      <td>...</td>\n      <td>...</td>\n      <td>...</td>\n      <td>...</td>\n      <td>...</td>\n      <td>...</td>\n      <td>...</td>\n      <td>...</td>\n    </tr>\n    <tr>\n      <th>1971426</th>\n      <td>Wydatki per capita</td>\n      <td>3263011</td>\n      <td>Świnoujście (1)</td>\n      <td>wydatki majątkowe</td>\n      <td>2016</td>\n      <td>1114</td>\n      <td>zł</td>\n      <td>NaN</td>\n      <td>NaN</td>\n    </tr>\n    <tr>\n      <th>1971427</th>\n      <td>Wydatki per capita</td>\n      <td>3263011</td>\n      <td>Świnoujście (1)</td>\n      <td>wydatki majątkowe</td>\n      <td>2017</td>\n      <td>1024</td>\n      <td>zł</td>\n      <td>NaN</td>\n      <td>NaN</td>\n    </tr>\n    <tr>\n      <th>1971428</th>\n      <td>Wydatki per capita</td>\n      <td>3263011</td>\n      <td>Świnoujście (1)</td>\n      <td>wydatki majątkowe</td>\n      <td>2018</td>\n      <td>3206</td>\n      <td>zł</td>\n      <td>NaN</td>\n      <td>NaN</td>\n    </tr>\n    <tr>\n      <th>1971429</th>\n      <td>Wydatki per capita</td>\n      <td>3263011</td>\n      <td>Świnoujście (1)</td>\n      <td>wydatki majątkowe</td>\n      <td>2019</td>\n      <td>5256</td>\n      <td>zł</td>\n      <td>NaN</td>\n      <td>NaN</td>\n    </tr>\n    <tr>\n      <th>1971430</th>\n      <td>Wydatki per capita</td>\n      <td>3263011</td>\n      <td>Świnoujście (1)</td>\n      <td>wydatki majątkowe</td>\n      <td>2020</td>\n      <td>9089</td>\n      <td>zł</td>\n      <td>NaN</td>\n      <td>NaN</td>\n    </tr>\n  </tbody>\n</table>\n<p>1971431 rows × 9 columns</p>\n</div>"
     },
     "execution_count": 13,
     "metadata": {},
     "output_type": "execute_result"
    }
   ],
   "source": [
    "df_gminy"
   ],
   "metadata": {
    "collapsed": false,
    "pycharm": {
     "name": "#%%\n"
    }
   }
  },
  {
   "cell_type": "code",
   "execution_count": null,
   "outputs": [],
   "source": [],
   "metadata": {
    "collapsed": false,
    "pycharm": {
     "name": "#%%\n"
    }
   }
  }
 ],
 "metadata": {
  "kernelspec": {
   "display_name": "Python 3",
   "language": "python",
   "name": "python3"
  },
  "language_info": {
   "codemirror_mode": {
    "name": "ipython",
    "version": 3
   },
   "file_extension": ".py",
   "mimetype": "text/x-python",
   "name": "python",
   "nbconvert_exporter": "python",
   "pygments_lexer": "ipython3",
   "version": "3.8.5"
  }
 },
 "nbformat": 4,
 "nbformat_minor": 4
}