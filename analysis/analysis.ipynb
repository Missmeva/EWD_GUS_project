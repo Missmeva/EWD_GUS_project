{
 "cells": [
  {
   "cell_type": "code",
   "execution_count": 1,
   "metadata": {},
   "outputs": [],
   "source": [
    "import numpy\n",
    "import pandas as pd\n",
    "import seaborn as sns\n",
    "import sklearn as scikit_learn"
   ]
  },
  {
   "cell_type": "code",
   "execution_count": 4,
   "metadata": {},
   "outputs": [],
   "source": [
    "df_ludnosc = pd.read_csv(\"./data/ludnosc.csv\", sep=\";\")"
   ]
  },
  {
   "cell_type": "code",
   "execution_count": 6,
   "metadata": {},
   "outputs": [
    {
     "data": {
      "text/html": [
       "<div>\n",
       "<style scoped>\n",
       "    .dataframe tbody tr th:only-of-type {\n",
       "        vertical-align: middle;\n",
       "    }\n",
       "\n",
       "    .dataframe tbody tr th {\n",
       "        vertical-align: top;\n",
       "    }\n",
       "\n",
       "    .dataframe thead th {\n",
       "        text-align: right;\n",
       "    }\n",
       "</style>\n",
       "<table border=\"1\" class=\"dataframe\">\n",
       "  <thead>\n",
       "    <tr style=\"text-align: right;\">\n",
       "      <th></th>\n",
       "      <th>Kategoria</th>\n",
       "      <th>Kod</th>\n",
       "      <th>Nazwa</th>\n",
       "      <th>Zmienna</th>\n",
       "      <th>Rok</th>\n",
       "      <th>Wartosc</th>\n",
       "      <th>Jednostka miary</th>\n",
       "      <th>Atrybut</th>\n",
       "      <th>Unnamed: 8</th>\n",
       "    </tr>\n",
       "  </thead>\n",
       "  <tbody>\n",
       "    <tr>\n",
       "      <th>0</th>\n",
       "      <td>Gospodarstwa</td>\n",
       "      <td>0</td>\n",
       "      <td>POLSKA</td>\n",
       "      <td>gospodarstwa domowe objęte badaniem</td>\n",
       "      <td>1999</td>\n",
       "      <td>31428</td>\n",
       "      <td>gosp.</td>\n",
       "      <td>NaN</td>\n",
       "      <td>NaN</td>\n",
       "    </tr>\n",
       "    <tr>\n",
       "      <th>1</th>\n",
       "      <td>Gospodarstwa</td>\n",
       "      <td>0</td>\n",
       "      <td>POLSKA</td>\n",
       "      <td>gospodarstwa domowe objęte badaniem</td>\n",
       "      <td>2000</td>\n",
       "      <td>36163</td>\n",
       "      <td>gosp.</td>\n",
       "      <td>NaN</td>\n",
       "      <td>NaN</td>\n",
       "    </tr>\n",
       "    <tr>\n",
       "      <th>2</th>\n",
       "      <td>Gospodarstwa</td>\n",
       "      <td>0</td>\n",
       "      <td>POLSKA</td>\n",
       "      <td>gospodarstwa domowe objęte badaniem</td>\n",
       "      <td>2001</td>\n",
       "      <td>31847</td>\n",
       "      <td>gosp.</td>\n",
       "      <td>NaN</td>\n",
       "      <td>NaN</td>\n",
       "    </tr>\n",
       "    <tr>\n",
       "      <th>3</th>\n",
       "      <td>Gospodarstwa</td>\n",
       "      <td>0</td>\n",
       "      <td>POLSKA</td>\n",
       "      <td>gospodarstwa domowe objęte badaniem</td>\n",
       "      <td>2002</td>\n",
       "      <td>32342</td>\n",
       "      <td>gosp.</td>\n",
       "      <td>NaN</td>\n",
       "      <td>NaN</td>\n",
       "    </tr>\n",
       "    <tr>\n",
       "      <th>4</th>\n",
       "      <td>Gospodarstwa</td>\n",
       "      <td>0</td>\n",
       "      <td>POLSKA</td>\n",
       "      <td>gospodarstwa domowe objęte badaniem</td>\n",
       "      <td>2003</td>\n",
       "      <td>32452</td>\n",
       "      <td>gosp.</td>\n",
       "      <td>NaN</td>\n",
       "      <td>NaN</td>\n",
       "    </tr>\n",
       "  </tbody>\n",
       "</table>\n",
       "</div>"
      ],
      "text/plain": [
       "      Kategoria  Kod   Nazwa                              Zmienna   Rok  \\\n",
       "0  Gospodarstwa    0  POLSKA  gospodarstwa domowe objęte badaniem  1999   \n",
       "1  Gospodarstwa    0  POLSKA  gospodarstwa domowe objęte badaniem  2000   \n",
       "2  Gospodarstwa    0  POLSKA  gospodarstwa domowe objęte badaniem  2001   \n",
       "3  Gospodarstwa    0  POLSKA  gospodarstwa domowe objęte badaniem  2002   \n",
       "4  Gospodarstwa    0  POLSKA  gospodarstwa domowe objęte badaniem  2003   \n",
       "\n",
       "  Wartosc Jednostka miary Atrybut  Unnamed: 8  \n",
       "0   31428           gosp.     NaN         NaN  \n",
       "1   36163           gosp.     NaN         NaN  \n",
       "2   31847           gosp.     NaN         NaN  \n",
       "3   32342           gosp.     NaN         NaN  \n",
       "4   32452           gosp.     NaN         NaN  "
      ]
     },
     "execution_count": 6,
     "metadata": {},
     "output_type": "execute_result"
    }
   ],
   "source": [
    "df_ludnosc.head()"
   ]
  },
  {
   "cell_type": "code",
   "execution_count": null,
   "metadata": {},
   "outputs": [],
   "source": []
  }
 ],
 "metadata": {
  "kernelspec": {
   "display_name": "Python 3",
   "language": "python",
   "name": "python3"
  },
  "language_info": {
   "codemirror_mode": {
    "name": "ipython",
    "version": 3
   },
   "file_extension": ".py",
   "mimetype": "text/x-python",
   "name": "python",
   "nbconvert_exporter": "python",
   "pygments_lexer": "ipython3",
   "version": "3.8.5"
  }
 },
 "nbformat": 4,
 "nbformat_minor": 4
}
