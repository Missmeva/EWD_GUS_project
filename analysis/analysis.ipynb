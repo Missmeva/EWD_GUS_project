{
 "cells": [
  {
   "cell_type": "code",
   "execution_count": 14,
   "metadata": {},
   "outputs": [],
   "source": [
    "import numpy\n",
    "import pandas as pd\n",
    "import seaborn as sns\n",
    "import sklearn as scikit_learn"
   ]
  },
  {
   "cell_type": "code",
   "execution_count": 15,
   "metadata": {},
   "outputs": [
    {
     "name": "stderr",
     "output_type": "stream",
     "text": [
      "/Users/gsochaj/Library/Python/3.9/lib/python/site-packages/IPython/core/interactiveshell.py:3441: DtypeWarning: Columns (5,7) have mixed types.Specify dtype option on import or set low_memory=False.\n",
      "  exec(code_obj, self.user_global_ns, self.user_ns)\n"
     ]
    }
   ],
   "source": [
    "df_ludnosc = pd.read_csv(\"../data/ludnosc.csv\", sep=\";\")\n",
    "df_gminy = pd.read_csv(\"../data/gminy.csv\", sep=\";\")"
   ]
  },
  {
   "cell_type": "code",
   "execution_count": 16,
   "metadata": {},
   "outputs": [
    {
     "data": {
      "text/plain": "      Kategoria  Kod   Nazwa                              Zmienna   Rok  \\\n0  Gospodarstwa    0  POLSKA  gospodarstwa domowe objęte badaniem  1999   \n1  Gospodarstwa    0  POLSKA  gospodarstwa domowe objęte badaniem  2000   \n2  Gospodarstwa    0  POLSKA  gospodarstwa domowe objęte badaniem  2001   \n3  Gospodarstwa    0  POLSKA  gospodarstwa domowe objęte badaniem  2002   \n4  Gospodarstwa    0  POLSKA  gospodarstwa domowe objęte badaniem  2003   \n\n  Wartosc Jednostka miary Atrybut  Unnamed: 8  \n0   31428           gosp.     NaN         NaN  \n1   36163           gosp.     NaN         NaN  \n2   31847           gosp.     NaN         NaN  \n3   32342           gosp.     NaN         NaN  \n4   32452           gosp.     NaN         NaN  ",
      "text/html": "<div>\n<style scoped>\n    .dataframe tbody tr th:only-of-type {\n        vertical-align: middle;\n    }\n\n    .dataframe tbody tr th {\n        vertical-align: top;\n    }\n\n    .dataframe thead th {\n        text-align: right;\n    }\n</style>\n<table border=\"1\" class=\"dataframe\">\n  <thead>\n    <tr style=\"text-align: right;\">\n      <th></th>\n      <th>Kategoria</th>\n      <th>Kod</th>\n      <th>Nazwa</th>\n      <th>Zmienna</th>\n      <th>Rok</th>\n      <th>Wartosc</th>\n      <th>Jednostka miary</th>\n      <th>Atrybut</th>\n      <th>Unnamed: 8</th>\n    </tr>\n  </thead>\n  <tbody>\n    <tr>\n      <th>0</th>\n      <td>Gospodarstwa</td>\n      <td>0</td>\n      <td>POLSKA</td>\n      <td>gospodarstwa domowe objęte badaniem</td>\n      <td>1999</td>\n      <td>31428</td>\n      <td>gosp.</td>\n      <td>NaN</td>\n      <td>NaN</td>\n    </tr>\n    <tr>\n      <th>1</th>\n      <td>Gospodarstwa</td>\n      <td>0</td>\n      <td>POLSKA</td>\n      <td>gospodarstwa domowe objęte badaniem</td>\n      <td>2000</td>\n      <td>36163</td>\n      <td>gosp.</td>\n      <td>NaN</td>\n      <td>NaN</td>\n    </tr>\n    <tr>\n      <th>2</th>\n      <td>Gospodarstwa</td>\n      <td>0</td>\n      <td>POLSKA</td>\n      <td>gospodarstwa domowe objęte badaniem</td>\n      <td>2001</td>\n      <td>31847</td>\n      <td>gosp.</td>\n      <td>NaN</td>\n      <td>NaN</td>\n    </tr>\n    <tr>\n      <th>3</th>\n      <td>Gospodarstwa</td>\n      <td>0</td>\n      <td>POLSKA</td>\n      <td>gospodarstwa domowe objęte badaniem</td>\n      <td>2002</td>\n      <td>32342</td>\n      <td>gosp.</td>\n      <td>NaN</td>\n      <td>NaN</td>\n    </tr>\n    <tr>\n      <th>4</th>\n      <td>Gospodarstwa</td>\n      <td>0</td>\n      <td>POLSKA</td>\n      <td>gospodarstwa domowe objęte badaniem</td>\n      <td>2003</td>\n      <td>32452</td>\n      <td>gosp.</td>\n      <td>NaN</td>\n      <td>NaN</td>\n    </tr>\n  </tbody>\n</table>\n</div>"
     },
     "execution_count": 16,
     "metadata": {},
     "output_type": "execute_result"
    }
   ],
   "source": [
    "df_ludnosc.head()"
   ]
  },
  {
   "cell_type": "code",
   "execution_count": 17,
   "outputs": [
    {
     "data": {
      "text/plain": "  Kategoria  Kod   Nazwa           Zmienna   Rok Wartosc Jednostka miary  \\\n0   Ludność    0  POLSKA  ludność na 1 km2  2002   122.0           osoba   \n1   Ludność    0  POLSKA  ludność na 1 km2  2003   122.0           osoba   \n2   Ludność    0  POLSKA  ludność na 1 km2  2004   122.0           osoba   \n3   Ludność    0  POLSKA  ludność na 1 km2  2005   122.0           osoba   \n4   Ludność    0  POLSKA  ludność na 1 km2  2006   122.0           osoba   \n\n  Atrybut  Unnamed: 8  \n0     NaN         NaN  \n1     NaN         NaN  \n2     NaN         NaN  \n3     NaN         NaN  \n4     NaN         NaN  ",
      "text/html": "<div>\n<style scoped>\n    .dataframe tbody tr th:only-of-type {\n        vertical-align: middle;\n    }\n\n    .dataframe tbody tr th {\n        vertical-align: top;\n    }\n\n    .dataframe thead th {\n        text-align: right;\n    }\n</style>\n<table border=\"1\" class=\"dataframe\">\n  <thead>\n    <tr style=\"text-align: right;\">\n      <th></th>\n      <th>Kategoria</th>\n      <th>Kod</th>\n      <th>Nazwa</th>\n      <th>Zmienna</th>\n      <th>Rok</th>\n      <th>Wartosc</th>\n      <th>Jednostka miary</th>\n      <th>Atrybut</th>\n      <th>Unnamed: 8</th>\n    </tr>\n  </thead>\n  <tbody>\n    <tr>\n      <th>0</th>\n      <td>Ludność</td>\n      <td>0</td>\n      <td>POLSKA</td>\n      <td>ludność na 1 km2</td>\n      <td>2002</td>\n      <td>122.0</td>\n      <td>osoba</td>\n      <td>NaN</td>\n      <td>NaN</td>\n    </tr>\n    <tr>\n      <th>1</th>\n      <td>Ludność</td>\n      <td>0</td>\n      <td>POLSKA</td>\n      <td>ludność na 1 km2</td>\n      <td>2003</td>\n      <td>122.0</td>\n      <td>osoba</td>\n      <td>NaN</td>\n      <td>NaN</td>\n    </tr>\n    <tr>\n      <th>2</th>\n      <td>Ludność</td>\n      <td>0</td>\n      <td>POLSKA</td>\n      <td>ludność na 1 km2</td>\n      <td>2004</td>\n      <td>122.0</td>\n      <td>osoba</td>\n      <td>NaN</td>\n      <td>NaN</td>\n    </tr>\n    <tr>\n      <th>3</th>\n      <td>Ludność</td>\n      <td>0</td>\n      <td>POLSKA</td>\n      <td>ludność na 1 km2</td>\n      <td>2005</td>\n      <td>122.0</td>\n      <td>osoba</td>\n      <td>NaN</td>\n      <td>NaN</td>\n    </tr>\n    <tr>\n      <th>4</th>\n      <td>Ludność</td>\n      <td>0</td>\n      <td>POLSKA</td>\n      <td>ludność na 1 km2</td>\n      <td>2006</td>\n      <td>122.0</td>\n      <td>osoba</td>\n      <td>NaN</td>\n      <td>NaN</td>\n    </tr>\n  </tbody>\n</table>\n</div>"
     },
     "execution_count": 17,
     "metadata": {},
     "output_type": "execute_result"
    }
   ],
   "source": [
    "df_gminy.head()"
   ],
   "metadata": {
    "collapsed": false,
    "pycharm": {
     "name": "#%%\n"
    }
   }
  },
  {
   "cell_type": "code",
   "execution_count": 18,
   "metadata": {},
   "outputs": [
    {
     "name": "stdout",
     "output_type": "stream",
     "text": [
      "Kategoria - ['Gospodarstwa' 'Osoby' 'Wyposażenie' 'Artykuły' 'Dochody' 'Wydatki']\n",
      "\n",
      "Kod - [      0  200000  400000  600000  800000 1000000 1200000 1400000 1600000\n",
      " 1800000 2000000 2200000 2400000 2600000 2800000 3000000 3200000]\n",
      "\n",
      "Nazwa - ['POLSKA' 'DOLNOŚLĄSKIE' 'KUJAWSKO-POMORSKIE' 'LUBELSKIE' 'LUBUSKIE'\n",
      " 'ŁÓDZKIE' 'MAŁOPOLSKIE' 'MAZOWIECKIE' 'OPOLSKIE' 'PODKARPACKIE'\n",
      " 'PODLASKIE' 'POMORSKIE' 'ŚLĄSKIE' 'ŚWIĘTOKRZYSKIE' 'WARMIŃSKO-MAZURSKIE'\n",
      " 'WIELKOPOLSKIE' 'ZACHODNIOPOMORSKIE']\n",
      "\n",
      "Zmienna - ['gospodarstwa domowe objęte badaniem' 'ogółem' 'pracujących'\n",
      " 'pobierający świadczenia społeczne' 'emerytury i renty'\n",
      " 'pozostających na utrzymaniu'\n",
      " 'przeciętna liczba osób pobierających  świadczenia społeczne w relacji do przeciętnej liczby osób w gospodarstwie domowym'\n",
      " 'chłodziarka' 'automat pralniczy' 'zmywarka do naczyń'\n",
      " 'kuchenka mikrofalowa'\n",
      " 'kuchenka elektryczna z płytą ceramiczną, indukcyjną' 'samochód osobowy'\n",
      " 'odtwarzacz płyt kompaktowych'\n",
      " 'zestaw do odbioru, rejestracji i odtwarzania dźwięku (wieża HI-FI)'\n",
      " 'odbiornik telewizyjny' 'zestaw kina domowego' 'odtwarzacz DVD'\n",
      " 'telefon komórkowy' 'smartfon' 'magnetowid, odtwarzacz'\n",
      " 'urządzenie do odbioru telewizji satelitarnej'\n",
      " 'urządzenie do odbioru telewizji satelitarnej lub kablowej'\n",
      " 'komputer osobisty ogółem' 'komputer osobisty z dostępem do Internetu'\n",
      " 'komputer osobisty z szerokopasmowym dostępem do Internetu'\n",
      " 'urządzenie z dostępem do Internetu' 'drukarka' 'drukarka wielofunkcyjna'\n",
      " 'pieczywo i produkty zbożowe' 'pieczywo' 'mięso' 'mięso surowe'\n",
      " 'mięso surowe drobiowe' 'wędliny i inne przetwory mięsne' 'wędliny'\n",
      " 'ryby' 'ryby i owoce morza' 'mleko świeże' 'jogurty i napoje mleczne'\n",
      " 'jogurty'\n",
      " 'mleko (bez zagęszczonego i w proszku), napoje mleczne i jogurty'\n",
      " 'sery i twarogi' 'jaja' 'oleje i tłuszcze' 'owoce' 'warzywa' 'ziemniaki'\n",
      " 'cukier' 'z pracy najemnej' 'z gospodarstwa indywidualnego w rolnictwie'\n",
      " 'z pracy na własny rachunek'\n",
      " 'przeciętny miesięczny dochód rozporządzalny na 1 osobę  z gospodarstwa indywidualnego w rolnictwie w relacji do przeciętnego miesięcznego dochodu na 1 osobę z pracy na własny rachunek'\n",
      " 'ze świadczeń społecznych'\n",
      " 'ze świadczeń społecznych; w tym ze świadczenia wychowawczego Rodzina 500+\"\"'\n",
      " 'dochód do dyspozycji' 'ogółem, Polska = 100'\n",
      " 'towary i usługi konsumpcyjne' 'żywność i napoje bezalkoholowe'\n",
      " 'napoje alkoholowe i wyroby tytoniowe' 'odzież i obuwie'\n",
      " 'użytkowanie mieszkania lub domu i nośniki energii'\n",
      " 'wyposażenie mieszkania i prowadzenie gospodarstwa domowego' 'zdrowie'\n",
      " 'transport' 'łączność' 'rekreacja i kultura' 'edukacja'\n",
      " 'restauracje i hotele' 'pozostałe wydatki na towary i usługi'\n",
      " 'ogółem (BAEL)' 'towary i usługi konsumpcyjne (BAEL)'\n",
      " 'udział wydatków na żywność i napoje bezalkoholowe w wydatkach ogółem'\n",
      " 'udział wydatków na użytkowanie mieszkania i nośniki energii w wydatkach ogółem']\n",
      "\n",
      "Rok - [1999 2000 2001 2002 2003 2004 2005 2006 2007 2008 2009 2010 2011 2012\n",
      " 2013 2014 2015 2016 2017 2018 2019 2020 1998]\n",
      "\n",
      "Wartosc - ['31428' '36163' '31847' ... '77,46' '73,17' '654,69']\n",
      "\n",
      "Jednostka miary - ['gosp.' 'osoba' '-' '%' 'kg' 'l' 'szt.' 'zł']\n",
      "\n",
      "Atrybut - [nan 'm' 'x']\n",
      "\n",
      "Unnamed: 8 - [nan]\n",
      "\n"
     ]
    }
   ],
   "source": [
    "for col in df_ludnosc.columns:\n",
    "    print(f'{col} - {df_ludnosc[col].unique()}\\n')"
   ]
  },
  {
   "cell_type": "code",
   "execution_count": 19,
   "outputs": [
    {
     "name": "stdout",
     "output_type": "stream",
     "text": [
      "Kategoria - ['Ludność' 'Ludność wg grup wieku' 'Mężczyźni wg grup wieku'\n",
      " 'Kobiety wg grup wieku' 'Bezrobocie' 'Skolaryzacja' 'Dochody per capita'\n",
      " 'Wydatki per capita']\n",
      "\n",
      "Kod - [      0  200000  201000 ... 1431001 1431141 1431981]\n",
      "\n",
      "Nazwa - ['POLSKA' 'DOLNOŚLĄSKIE' 'Powiat bolesławiecki' ...\n",
      " 'M.st.Warszawa do 2001 (1)' 'Warszawa - Ursus do 2001 (1)'\n",
      " 'Związek gmin dzielnic Warszawy do 2001 (1)']\n",
      "\n",
      "Zmienna - ['ludność na 1 km2' 'ogółem' '0-14' '15-64' '65 i więcej'\n",
      " 'urodzenia żywe na 1000 ludności' 'zgony na 1000 ludności'\n",
      " 'przyrost naturalny na 1000 ludności' 'mężczyźni' 'kobiety'\n",
      " 'szkoły podstawowe' 'gimnazja' 'w Dziale 801- Oświata i wychowanie'\n",
      " 'w Dziale 921 - Kultura i ochrona dziedzictwa narodowego'\n",
      " 'wydatki w rozdziale 90005 Ochrona powietrza atmosferycznego i klimatu'\n",
      " 'wydatki majątkowe']\n",
      "\n",
      "Rok - [2002 2003 2004 2005 2006 2007 2008 2009 2010 2011 2012 2013 2014 2015\n",
      " 2016 2017 2018 2019 2020 2001]\n",
      "\n",
      "Wartosc - [122.0 123.0 146.0 ... '120,84' '5256' '9089']\n",
      "\n",
      "Jednostka miary - ['osoba' '-' '%' 'zł']\n",
      "\n",
      "Atrybut - [nan 'x' 'z' 'a' 'k']\n",
      "\n",
      "Unnamed: 8 - [nan]\n",
      "\n"
     ]
    }
   ],
   "source": [
    "for col in df_gminy.columns:\n",
    "    print(f'{col} - {df_gminy[col].unique()}\\n')"
   ],
   "metadata": {
    "collapsed": false,
    "pycharm": {
     "name": "#%%\n"
    }
   }
  },
  {
   "cell_type": "code",
   "execution_count": 20,
   "outputs": [
    {
     "data": {
      "text/plain": "  Kategoria     Kod            Nazwa           Zmienna   Rok Wartosc  \\\n0   Ludność  201011  Bolesławiec (1)  ludność na 1 km2  2002  1814.0   \n1   Ludność  201011  Bolesławiec (1)  ludność na 1 km2  2003  1809.0   \n2   Ludność  201011  Bolesławiec (1)  ludność na 1 km2  2004  1803.0   \n3   Ludność  201011  Bolesławiec (1)  ludność na 1 km2  2005  1797.0   \n4   Ludność  201011  Bolesławiec (1)  ludność na 1 km2  2006  1726.0   \n\n  Jednostka miary Atrybut  Unnamed: 8  \n0           osoba     NaN         NaN  \n1           osoba     NaN         NaN  \n2           osoba     NaN         NaN  \n3           osoba     NaN         NaN  \n4           osoba     NaN         NaN  ",
      "text/html": "<div>\n<style scoped>\n    .dataframe tbody tr th:only-of-type {\n        vertical-align: middle;\n    }\n\n    .dataframe tbody tr th {\n        vertical-align: top;\n    }\n\n    .dataframe thead th {\n        text-align: right;\n    }\n</style>\n<table border=\"1\" class=\"dataframe\">\n  <thead>\n    <tr style=\"text-align: right;\">\n      <th></th>\n      <th>Kategoria</th>\n      <th>Kod</th>\n      <th>Nazwa</th>\n      <th>Zmienna</th>\n      <th>Rok</th>\n      <th>Wartosc</th>\n      <th>Jednostka miary</th>\n      <th>Atrybut</th>\n      <th>Unnamed: 8</th>\n    </tr>\n  </thead>\n  <tbody>\n    <tr>\n      <th>0</th>\n      <td>Ludność</td>\n      <td>201011</td>\n      <td>Bolesławiec (1)</td>\n      <td>ludność na 1 km2</td>\n      <td>2002</td>\n      <td>1814.0</td>\n      <td>osoba</td>\n      <td>NaN</td>\n      <td>NaN</td>\n    </tr>\n    <tr>\n      <th>1</th>\n      <td>Ludność</td>\n      <td>201011</td>\n      <td>Bolesławiec (1)</td>\n      <td>ludność na 1 km2</td>\n      <td>2003</td>\n      <td>1809.0</td>\n      <td>osoba</td>\n      <td>NaN</td>\n      <td>NaN</td>\n    </tr>\n    <tr>\n      <th>2</th>\n      <td>Ludność</td>\n      <td>201011</td>\n      <td>Bolesławiec (1)</td>\n      <td>ludność na 1 km2</td>\n      <td>2004</td>\n      <td>1803.0</td>\n      <td>osoba</td>\n      <td>NaN</td>\n      <td>NaN</td>\n    </tr>\n    <tr>\n      <th>3</th>\n      <td>Ludność</td>\n      <td>201011</td>\n      <td>Bolesławiec (1)</td>\n      <td>ludność na 1 km2</td>\n      <td>2005</td>\n      <td>1797.0</td>\n      <td>osoba</td>\n      <td>NaN</td>\n      <td>NaN</td>\n    </tr>\n    <tr>\n      <th>4</th>\n      <td>Ludność</td>\n      <td>201011</td>\n      <td>Bolesławiec (1)</td>\n      <td>ludność na 1 km2</td>\n      <td>2006</td>\n      <td>1726.0</td>\n      <td>osoba</td>\n      <td>NaN</td>\n      <td>NaN</td>\n    </tr>\n  </tbody>\n</table>\n</div>"
     },
     "execution_count": 20,
     "metadata": {},
     "output_type": "execute_result"
    }
   ],
   "source": [
    "# TERYT kod - jeżeli id kończy się na 1,2 to jest to gmina zwykła bez podziału. Jeżeli kończy się na 3 to gmina dzieli się jeszcze na terytorium miejskie i wiejskie ale nas to w sumie nie obchodzi hehe\n",
    "# TERYT kod - jeżeli kończy się na 0 to jest to województwo, powiat lub Polska cała\n",
    "# TERYT kod - jeżeli kończy się na 4,5 to wtedy 4 - terytorium miejskie oraz 5 - terytorium wiejskie\n",
    "\n",
    "df_only_gminy = df_gminy[df_gminy['Kod'].apply(str).str.endswith(tuple('123'))]\n",
    "df_only_gminy.reset_index(inplace=True,drop=True)\n",
    "df_only_gminy.head(5)"
   ],
   "metadata": {
    "collapsed": false,
    "pycharm": {
     "name": "#%%\n"
    }
   }
  },
  {
   "cell_type": "code",
   "execution_count": 22,
   "outputs": [
    {
     "data": {
      "text/plain": "Rok                                                                     2001  \\\nKod    Nazwa           Kategoria             Zmienna   Jednostka miary         \n201011 Bolesławiec (1) Bezrobocie            kobiety   %                 NaN   \n                                             mężczyźni %                 NaN   \n                                             ogółem    %                 NaN   \n                       Dochody per capita    ogółem    zł                NaN   \n                       Kobiety wg grup wieku 0-14      osoba             NaN   \n\nRok                                                                       2002  \\\nKod    Nazwa           Kategoria             Zmienna   Jednostka miary           \n201011 Bolesławiec (1) Bezrobocie            kobiety   %                   NaN   \n                                             mężczyźni %                   NaN   \n                                             ogółem    %                   NaN   \n                       Dochody per capita    ogółem    zł               1450.0   \n                       Kobiety wg grup wieku 0-14      osoba               NaN   \n\nRok                                                                       2003  \\\nKod    Nazwa           Kategoria             Zmienna   Jednostka miary           \n201011 Bolesławiec (1) Bezrobocie            kobiety   %                  13.2   \n                                             mężczyźni %                  14.7   \n                                             ogółem    %                  13.9   \n                       Dochody per capita    ogółem    zł               1668.0   \n                       Kobiety wg grup wieku 0-14      osoba               NaN   \n\nRok                                                                       2004  \\\nKod    Nazwa           Kategoria             Zmienna   Jednostka miary           \n201011 Bolesławiec (1) Bezrobocie            kobiety   %                  11.9   \n                                             mężczyźni %                  12.6   \n                                             ogółem    %                  12.2   \n                       Dochody per capita    ogółem    zł               1577.0   \n                       Kobiety wg grup wieku 0-14      osoba               NaN   \n\nRok                                                                       2005  \\\nKod    Nazwa           Kategoria             Zmienna   Jednostka miary           \n201011 Bolesławiec (1) Bezrobocie            kobiety   %                  10.3   \n                                             mężczyźni %                  10.8   \n                                             ogółem    %                  10.6   \n                       Dochody per capita    ogółem    zł               1940.0   \n                       Kobiety wg grup wieku 0-14      osoba               NaN   \n\nRok                                                                        2006  \\\nKod    Nazwa           Kategoria             Zmienna   Jednostka miary            \n201011 Bolesławiec (1) Bezrobocie            kobiety   %                   8.10   \n                                             mężczyźni %                   7.50   \n                                             ogółem    %                   7.80   \n                       Dochody per capita    ogółem    zł               2324.54   \n                       Kobiety wg grup wieku 0-14      osoba                NaN   \n\nRok                                                                        2007  \\\nKod    Nazwa           Kategoria             Zmienna   Jednostka miary            \n201011 Bolesławiec (1) Bezrobocie            kobiety   %                   6.40   \n                                             mężczyźni %                   6.30   \n                                             ogółem    %                   6.30   \n                       Dochody per capita    ogółem    zł               2724.36   \n                       Kobiety wg grup wieku 0-14      osoba                NaN   \n\nRok                                                                        2008  \\\nKod    Nazwa           Kategoria             Zmienna   Jednostka miary            \n201011 Bolesławiec (1) Bezrobocie            kobiety   %                   6.10   \n                                             mężczyźni %                   5.60   \n                                             ogółem    %                   5.80   \n                       Dochody per capita    ogółem    zł               2708.51   \n                       Kobiety wg grup wieku 0-14      osoba                NaN   \n\nRok                                                                       2009  \\\nKod    Nazwa           Kategoria             Zmienna   Jednostka miary           \n201011 Bolesławiec (1) Bezrobocie            kobiety   %                   7.4   \n                                             mężczyźni %                   7.9   \n                                             ogółem    %                   7.6   \n                       Dochody per capita    ogółem    zł               2756.5   \n                       Kobiety wg grup wieku 0-14      osoba               NaN   \n\nRok                                                                        2010  \\\nKod    Nazwa           Kategoria             Zmienna   Jednostka miary            \n201011 Bolesławiec (1) Bezrobocie            kobiety   %                   7.90   \n                                             mężczyźni %                   7.20   \n                                             ogółem    %                   7.50   \n                       Dochody per capita    ogółem    zł               2971.53   \n                       Kobiety wg grup wieku 0-14      osoba            2526.00   \n\nRok                                                                       2011  \\\nKod    Nazwa           Kategoria             Zmienna   Jednostka miary           \n201011 Bolesławiec (1) Bezrobocie            kobiety   %                   7.3   \n                                             mężczyźni %                   6.0   \n                                             ogółem    %                   6.6   \n                       Dochody per capita    ogółem    zł               3291.1   \n                       Kobiety wg grup wieku 0-14      osoba            2524.0   \n\nRok                                                                        2012  \\\nKod    Nazwa           Kategoria             Zmienna   Jednostka miary            \n201011 Bolesławiec (1) Bezrobocie            kobiety   %                   7.60   \n                                             mężczyźni %                   7.20   \n                                             ogółem    %                   7.40   \n                       Dochody per capita    ogółem    zł               2989.65   \n                       Kobiety wg grup wieku 0-14      osoba            2536.00   \n\nRok                                                                        2013  \\\nKod    Nazwa           Kategoria             Zmienna   Jednostka miary            \n201011 Bolesławiec (1) Bezrobocie            kobiety   %                   7.40   \n                                             mężczyźni %                   6.40   \n                                             ogółem    %                   6.90   \n                       Dochody per capita    ogółem    zł               3278.21   \n                       Kobiety wg grup wieku 0-14      osoba            2489.00   \n\nRok                                                                        2014  \\\nKod    Nazwa           Kategoria             Zmienna   Jednostka miary            \n201011 Bolesławiec (1) Bezrobocie            kobiety   %                   5.20   \n                                             mężczyźni %                   4.50   \n                                             ogółem    %                   4.80   \n                       Dochody per capita    ogółem    zł               3678.17   \n                       Kobiety wg grup wieku 0-14      osoba            2532.00   \n\nRok                                                                        2015  \\\nKod    Nazwa           Kategoria             Zmienna   Jednostka miary            \n201011 Bolesławiec (1) Bezrobocie            kobiety   %                   4.40   \n                                             mężczyźni %                   4.00   \n                                             ogółem    %                   4.10   \n                       Dochody per capita    ogółem    zł               3653.29   \n                       Kobiety wg grup wieku 0-14      osoba            2561.00   \n\nRok                                                                        2016  \\\nKod    Nazwa           Kategoria             Zmienna   Jednostka miary            \n201011 Bolesławiec (1) Bezrobocie            kobiety   %                   3.40   \n                                             mężczyźni %                   3.00   \n                                             ogółem    %                   3.20   \n                       Dochody per capita    ogółem    zł               3905.44   \n                       Kobiety wg grup wieku 0-14      osoba            2564.00   \n\nRok                                                                        2017  \\\nKod    Nazwa           Kategoria             Zmienna   Jednostka miary            \n201011 Bolesławiec (1) Bezrobocie            kobiety   %                   2.70   \n                                             mężczyźni %                   2.20   \n                                             ogółem    %                   2.40   \n                       Dochody per capita    ogółem    zł               4213.61   \n                       Kobiety wg grup wieku 0-14      osoba            2558.00   \n\nRok                                                                        2018  \\\nKod    Nazwa           Kategoria             Zmienna   Jednostka miary            \n201011 Bolesławiec (1) Bezrobocie            kobiety   %                   2.70   \n                                             mężczyźni %                   1.80   \n                                             ogółem    %                   2.20   \n                       Dochody per capita    ogółem    zł               4597.48   \n                       Kobiety wg grup wieku 0-14      osoba            2579.00   \n\nRok                                                                        2019  \\\nKod    Nazwa           Kategoria             Zmienna   Jednostka miary            \n201011 Bolesławiec (1) Bezrobocie            kobiety   %                   2.70   \n                                             mężczyźni %                   2.00   \n                                             ogółem    %                   2.30   \n                       Dochody per capita    ogółem    zł               4900.69   \n                       Kobiety wg grup wieku 0-14      osoba            2589.00   \n\nRok                                                                        2020  \nKod    Nazwa           Kategoria             Zmienna   Jednostka miary           \n201011 Bolesławiec (1) Bezrobocie            kobiety   %                   4.00  \n                                             mężczyźni %                   3.00  \n                                             ogółem    %                   3.50  \n                       Dochody per capita    ogółem    zł               5199.18  \n                       Kobiety wg grup wieku 0-14      osoba            2526.00  ",
      "text/html": "<div>\n<style scoped>\n    .dataframe tbody tr th:only-of-type {\n        vertical-align: middle;\n    }\n\n    .dataframe tbody tr th {\n        vertical-align: top;\n    }\n\n    .dataframe thead th {\n        text-align: right;\n    }\n</style>\n<table border=\"1\" class=\"dataframe\">\n  <thead>\n    <tr style=\"text-align: right;\">\n      <th></th>\n      <th></th>\n      <th></th>\n      <th></th>\n      <th>Rok</th>\n      <th>2001</th>\n      <th>2002</th>\n      <th>2003</th>\n      <th>2004</th>\n      <th>2005</th>\n      <th>2006</th>\n      <th>2007</th>\n      <th>2008</th>\n      <th>2009</th>\n      <th>2010</th>\n      <th>2011</th>\n      <th>2012</th>\n      <th>2013</th>\n      <th>2014</th>\n      <th>2015</th>\n      <th>2016</th>\n      <th>2017</th>\n      <th>2018</th>\n      <th>2019</th>\n      <th>2020</th>\n    </tr>\n    <tr>\n      <th>Kod</th>\n      <th>Nazwa</th>\n      <th>Kategoria</th>\n      <th>Zmienna</th>\n      <th>Jednostka miary</th>\n      <th></th>\n      <th></th>\n      <th></th>\n      <th></th>\n      <th></th>\n      <th></th>\n      <th></th>\n      <th></th>\n      <th></th>\n      <th></th>\n      <th></th>\n      <th></th>\n      <th></th>\n      <th></th>\n      <th></th>\n      <th></th>\n      <th></th>\n      <th></th>\n      <th></th>\n      <th></th>\n    </tr>\n  </thead>\n  <tbody>\n    <tr>\n      <th rowspan=\"5\" valign=\"top\">201011</th>\n      <th rowspan=\"5\" valign=\"top\">Bolesławiec (1)</th>\n      <th rowspan=\"3\" valign=\"top\">Bezrobocie</th>\n      <th>kobiety</th>\n      <th>%</th>\n      <td>NaN</td>\n      <td>NaN</td>\n      <td>13.2</td>\n      <td>11.9</td>\n      <td>10.3</td>\n      <td>8.10</td>\n      <td>6.40</td>\n      <td>6.10</td>\n      <td>7.4</td>\n      <td>7.90</td>\n      <td>7.3</td>\n      <td>7.60</td>\n      <td>7.40</td>\n      <td>5.20</td>\n      <td>4.40</td>\n      <td>3.40</td>\n      <td>2.70</td>\n      <td>2.70</td>\n      <td>2.70</td>\n      <td>4.00</td>\n    </tr>\n    <tr>\n      <th>mężczyźni</th>\n      <th>%</th>\n      <td>NaN</td>\n      <td>NaN</td>\n      <td>14.7</td>\n      <td>12.6</td>\n      <td>10.8</td>\n      <td>7.50</td>\n      <td>6.30</td>\n      <td>5.60</td>\n      <td>7.9</td>\n      <td>7.20</td>\n      <td>6.0</td>\n      <td>7.20</td>\n      <td>6.40</td>\n      <td>4.50</td>\n      <td>4.00</td>\n      <td>3.00</td>\n      <td>2.20</td>\n      <td>1.80</td>\n      <td>2.00</td>\n      <td>3.00</td>\n    </tr>\n    <tr>\n      <th>ogółem</th>\n      <th>%</th>\n      <td>NaN</td>\n      <td>NaN</td>\n      <td>13.9</td>\n      <td>12.2</td>\n      <td>10.6</td>\n      <td>7.80</td>\n      <td>6.30</td>\n      <td>5.80</td>\n      <td>7.6</td>\n      <td>7.50</td>\n      <td>6.6</td>\n      <td>7.40</td>\n      <td>6.90</td>\n      <td>4.80</td>\n      <td>4.10</td>\n      <td>3.20</td>\n      <td>2.40</td>\n      <td>2.20</td>\n      <td>2.30</td>\n      <td>3.50</td>\n    </tr>\n    <tr>\n      <th>Dochody per capita</th>\n      <th>ogółem</th>\n      <th>zł</th>\n      <td>NaN</td>\n      <td>1450.0</td>\n      <td>1668.0</td>\n      <td>1577.0</td>\n      <td>1940.0</td>\n      <td>2324.54</td>\n      <td>2724.36</td>\n      <td>2708.51</td>\n      <td>2756.5</td>\n      <td>2971.53</td>\n      <td>3291.1</td>\n      <td>2989.65</td>\n      <td>3278.21</td>\n      <td>3678.17</td>\n      <td>3653.29</td>\n      <td>3905.44</td>\n      <td>4213.61</td>\n      <td>4597.48</td>\n      <td>4900.69</td>\n      <td>5199.18</td>\n    </tr>\n    <tr>\n      <th>Kobiety wg grup wieku</th>\n      <th>0-14</th>\n      <th>osoba</th>\n      <td>NaN</td>\n      <td>NaN</td>\n      <td>NaN</td>\n      <td>NaN</td>\n      <td>NaN</td>\n      <td>NaN</td>\n      <td>NaN</td>\n      <td>NaN</td>\n      <td>NaN</td>\n      <td>2526.00</td>\n      <td>2524.0</td>\n      <td>2536.00</td>\n      <td>2489.00</td>\n      <td>2532.00</td>\n      <td>2561.00</td>\n      <td>2564.00</td>\n      <td>2558.00</td>\n      <td>2579.00</td>\n      <td>2589.00</td>\n      <td>2526.00</td>\n    </tr>\n  </tbody>\n</table>\n</div>"
     },
     "execution_count": 22,
     "metadata": {},
     "output_type": "execute_result"
    }
   ],
   "source": [
    "# Wartosci do float'a\n",
    "\n",
    "df_only_gminy['Wartosc'] = df_only_gminy['Wartosc'].apply(str).str.replace(',','.').apply(float)\n",
    "\n",
    "# Zrobienie pivota aby wyciągnąć rok jako kolumny i wartość jako dane\n",
    "\n",
    "df_only_gminy_pivot = df_only_gminy.pivot_table(columns='Rok', index=['Kod','Nazwa','Kategoria','Zmienna','Jednostka miary'],values='Wartosc')\n",
    "df_only_gminy_pivot.head()"
   ],
   "metadata": {
    "collapsed": false,
    "pycharm": {
     "name": "#%%\n"
    }
   }
  },
  {
   "cell_type": "code",
   "execution_count": 30,
   "outputs": [
    {
     "name": "stdout",
     "output_type": "stream",
     "text": [
      "(201011, 'Bolesławiec (1)', 'Bezrobocie', 'kobiety', '%')\n"
     ]
    },
    {
     "data": {
      "text/plain": "       Kod            Nazwa                Kategoria  \\\n0   201011  Bolesławiec (1)               Bezrobocie   \n1   201011  Bolesławiec (1)               Bezrobocie   \n2   201011  Bolesławiec (1)               Bezrobocie   \n3   201011  Bolesławiec (1)       Dochody per capita   \n4   201011  Bolesławiec (1)    Kobiety wg grup wieku   \n5   201011  Bolesławiec (1)    Kobiety wg grup wieku   \n6   201011  Bolesławiec (1)    Kobiety wg grup wieku   \n7   201011  Bolesławiec (1)    Kobiety wg grup wieku   \n8   201011  Bolesławiec (1)                  Ludność   \n9   201011  Bolesławiec (1)                  Ludność   \n10  201011  Bolesławiec (1)                  Ludność   \n11  201011  Bolesławiec (1)                  Ludność   \n12  201011  Bolesławiec (1)    Ludność wg grup wieku   \n13  201011  Bolesławiec (1)    Ludność wg grup wieku   \n14  201011  Bolesławiec (1)    Ludność wg grup wieku   \n15  201011  Bolesławiec (1)    Ludność wg grup wieku   \n16  201011  Bolesławiec (1)  Mężczyźni wg grup wieku   \n17  201011  Bolesławiec (1)  Mężczyźni wg grup wieku   \n18  201011  Bolesławiec (1)  Mężczyźni wg grup wieku   \n19  201011  Bolesławiec (1)  Mężczyźni wg grup wieku   \n\n                                Zmienna Jednostka miary  2001     2002  \\\n0                               kobiety               %   NaN      NaN   \n1                             mężczyźni               %   NaN      NaN   \n2                                ogółem               %   NaN      NaN   \n3                                ogółem              zł   NaN  1450.00   \n4                                  0-14           osoba   NaN      NaN   \n5                                 15-64           osoba   NaN      NaN   \n6                           65 i więcej           osoba   NaN      NaN   \n7                                ogółem           osoba   NaN      NaN   \n8                      ludność na 1 km2           osoba   NaN  1814.00   \n9   przyrost naturalny na 1000 ludności               -   NaN    -0.93   \n10      urodzenia żywe na 1000 ludności               -   NaN     7.74   \n11               zgony na 1000 ludności               -   NaN     8.67   \n12                                 0-14           osoba   NaN      NaN   \n13                                15-64           osoba   NaN      NaN   \n14                          65 i więcej           osoba   NaN      NaN   \n15                               ogółem           osoba   NaN      NaN   \n16                                 0-14           osoba   NaN      NaN   \n17                                15-64           osoba   NaN      NaN   \n18                          65 i więcej           osoba   NaN      NaN   \n19                               ogółem           osoba   NaN      NaN   \n\n        2003      2004      2005  ...      2011      2012      2013      2014  \\\n0      13.20     11.90     10.30  ...      7.30      7.60      7.40      5.20   \n1      14.70     12.60     10.80  ...      6.00      7.20      6.40      4.50   \n2      13.90     12.20     10.60  ...      6.60      7.40      6.90      4.80   \n3    1668.00   1577.00   1940.00  ...   3291.10   2989.65   3278.21   3678.17   \n4        NaN       NaN       NaN  ...   2524.00   2536.00   2489.00   2532.00   \n5        NaN       NaN       NaN  ...  14686.00  14345.00  14102.00  13826.00   \n6    3367.00   3455.00   3567.00  ...   3924.00   4111.00   4275.00   4466.00   \n7   21806.00  21781.00  21734.00  ...  21134.00  20992.00  20866.00  20824.00   \n8    1809.00   1803.00   1797.00  ...   1702.00   1691.00   1680.00   1674.00   \n9      -0.12     -0.34     -0.89  ...     -0.10     -2.95     -2.79     -2.61   \n10      8.95      8.22      8.82  ...      9.18      8.18      7.88      8.00   \n11      9.07      8.56      9.71  ...      9.28     11.13     10.67     10.61   \n12       NaN       NaN       NaN  ...   5274.00   5179.00   5135.00   5166.00   \n13       NaN       NaN       NaN  ...  28699.00  28191.00  27716.00  27212.00   \n14   5448.00   5577.00   5700.00  ...   6146.00   6481.00   6752.00   7086.00   \n15  41263.00  41117.00  40984.00  ...  40119.00  39851.00  39603.00  39464.00   \n16       NaN       NaN       NaN  ...   2750.00   2643.00   2646.00   2634.00   \n17       NaN       NaN       NaN  ...  14013.00  13846.00  13614.00  13386.00   \n18   2081.00   2122.00   2133.00  ...   2222.00   2370.00   2477.00   2620.00   \n19  19457.00  19336.00  19250.00  ...  18985.00  18859.00  18737.00  18640.00   \n\n        2015      2016      2017      2018      2019      2020  \n0       4.40      3.40      2.70      2.70      2.70      4.00  \n1       4.00      3.00      2.20      1.80      2.00      3.00  \n2       4.10      3.20      2.40      2.20      2.30      3.50  \n3    3653.29   3905.44   4213.61   4597.48   4900.69   5199.18  \n4    2561.00   2564.00   2558.00   2579.00   2589.00   2526.00  \n5   13600.00  13293.00  13008.00  12776.00  12632.00  12326.00  \n6    4669.00   4874.00   5086.00   5238.00   5350.00   5506.00  \n7   20830.00  20731.00  20652.00  20593.00  20571.00  20358.00  \n8    1670.00   1662.00   1658.00   1652.00   1649.00   1633.00  \n9      -3.02     -2.75     -2.84     -3.25     -4.38     -5.91  \n10      7.89      8.50      8.82      8.86      8.26      7.28  \n11     10.91     11.25     11.66     12.12     12.64     13.20  \n12   5157.00   5135.00   5185.00   5207.00   5243.00   5168.00  \n13  26802.00  26241.00  25749.00  25284.00  24968.00  24404.00  \n14   7414.00   7791.00   8150.00   8444.00   8661.00   8914.00  \n15  39373.00  39167.00  39084.00  38935.00  38872.00  38486.00  \n16   2596.00   2571.00   2627.00   2628.00   2654.00   2642.00  \n17  13202.00  12948.00  12741.00  12508.00  12336.00  12078.00  \n18   2745.00   2917.00   3064.00   3206.00   3311.00   3408.00  \n19  18543.00  18436.00  18432.00  18342.00  18301.00  18128.00  \n\n[20 rows x 25 columns]",
      "text/html": "<div>\n<style scoped>\n    .dataframe tbody tr th:only-of-type {\n        vertical-align: middle;\n    }\n\n    .dataframe tbody tr th {\n        vertical-align: top;\n    }\n\n    .dataframe thead th {\n        text-align: right;\n    }\n</style>\n<table border=\"1\" class=\"dataframe\">\n  <thead>\n    <tr style=\"text-align: right;\">\n      <th></th>\n      <th>Kod</th>\n      <th>Nazwa</th>\n      <th>Kategoria</th>\n      <th>Zmienna</th>\n      <th>Jednostka miary</th>\n      <th>2001</th>\n      <th>2002</th>\n      <th>2003</th>\n      <th>2004</th>\n      <th>2005</th>\n      <th>...</th>\n      <th>2011</th>\n      <th>2012</th>\n      <th>2013</th>\n      <th>2014</th>\n      <th>2015</th>\n      <th>2016</th>\n      <th>2017</th>\n      <th>2018</th>\n      <th>2019</th>\n      <th>2020</th>\n    </tr>\n  </thead>\n  <tbody>\n    <tr>\n      <th>0</th>\n      <td>201011</td>\n      <td>Bolesławiec (1)</td>\n      <td>Bezrobocie</td>\n      <td>kobiety</td>\n      <td>%</td>\n      <td>NaN</td>\n      <td>NaN</td>\n      <td>13.20</td>\n      <td>11.90</td>\n      <td>10.30</td>\n      <td>...</td>\n      <td>7.30</td>\n      <td>7.60</td>\n      <td>7.40</td>\n      <td>5.20</td>\n      <td>4.40</td>\n      <td>3.40</td>\n      <td>2.70</td>\n      <td>2.70</td>\n      <td>2.70</td>\n      <td>4.00</td>\n    </tr>\n    <tr>\n      <th>1</th>\n      <td>201011</td>\n      <td>Bolesławiec (1)</td>\n      <td>Bezrobocie</td>\n      <td>mężczyźni</td>\n      <td>%</td>\n      <td>NaN</td>\n      <td>NaN</td>\n      <td>14.70</td>\n      <td>12.60</td>\n      <td>10.80</td>\n      <td>...</td>\n      <td>6.00</td>\n      <td>7.20</td>\n      <td>6.40</td>\n      <td>4.50</td>\n      <td>4.00</td>\n      <td>3.00</td>\n      <td>2.20</td>\n      <td>1.80</td>\n      <td>2.00</td>\n      <td>3.00</td>\n    </tr>\n    <tr>\n      <th>2</th>\n      <td>201011</td>\n      <td>Bolesławiec (1)</td>\n      <td>Bezrobocie</td>\n      <td>ogółem</td>\n      <td>%</td>\n      <td>NaN</td>\n      <td>NaN</td>\n      <td>13.90</td>\n      <td>12.20</td>\n      <td>10.60</td>\n      <td>...</td>\n      <td>6.60</td>\n      <td>7.40</td>\n      <td>6.90</td>\n      <td>4.80</td>\n      <td>4.10</td>\n      <td>3.20</td>\n      <td>2.40</td>\n      <td>2.20</td>\n      <td>2.30</td>\n      <td>3.50</td>\n    </tr>\n    <tr>\n      <th>3</th>\n      <td>201011</td>\n      <td>Bolesławiec (1)</td>\n      <td>Dochody per capita</td>\n      <td>ogółem</td>\n      <td>zł</td>\n      <td>NaN</td>\n      <td>1450.00</td>\n      <td>1668.00</td>\n      <td>1577.00</td>\n      <td>1940.00</td>\n      <td>...</td>\n      <td>3291.10</td>\n      <td>2989.65</td>\n      <td>3278.21</td>\n      <td>3678.17</td>\n      <td>3653.29</td>\n      <td>3905.44</td>\n      <td>4213.61</td>\n      <td>4597.48</td>\n      <td>4900.69</td>\n      <td>5199.18</td>\n    </tr>\n    <tr>\n      <th>4</th>\n      <td>201011</td>\n      <td>Bolesławiec (1)</td>\n      <td>Kobiety wg grup wieku</td>\n      <td>0-14</td>\n      <td>osoba</td>\n      <td>NaN</td>\n      <td>NaN</td>\n      <td>NaN</td>\n      <td>NaN</td>\n      <td>NaN</td>\n      <td>...</td>\n      <td>2524.00</td>\n      <td>2536.00</td>\n      <td>2489.00</td>\n      <td>2532.00</td>\n      <td>2561.00</td>\n      <td>2564.00</td>\n      <td>2558.00</td>\n      <td>2579.00</td>\n      <td>2589.00</td>\n      <td>2526.00</td>\n    </tr>\n    <tr>\n      <th>5</th>\n      <td>201011</td>\n      <td>Bolesławiec (1)</td>\n      <td>Kobiety wg grup wieku</td>\n      <td>15-64</td>\n      <td>osoba</td>\n      <td>NaN</td>\n      <td>NaN</td>\n      <td>NaN</td>\n      <td>NaN</td>\n      <td>NaN</td>\n      <td>...</td>\n      <td>14686.00</td>\n      <td>14345.00</td>\n      <td>14102.00</td>\n      <td>13826.00</td>\n      <td>13600.00</td>\n      <td>13293.00</td>\n      <td>13008.00</td>\n      <td>12776.00</td>\n      <td>12632.00</td>\n      <td>12326.00</td>\n    </tr>\n    <tr>\n      <th>6</th>\n      <td>201011</td>\n      <td>Bolesławiec (1)</td>\n      <td>Kobiety wg grup wieku</td>\n      <td>65 i więcej</td>\n      <td>osoba</td>\n      <td>NaN</td>\n      <td>NaN</td>\n      <td>3367.00</td>\n      <td>3455.00</td>\n      <td>3567.00</td>\n      <td>...</td>\n      <td>3924.00</td>\n      <td>4111.00</td>\n      <td>4275.00</td>\n      <td>4466.00</td>\n      <td>4669.00</td>\n      <td>4874.00</td>\n      <td>5086.00</td>\n      <td>5238.00</td>\n      <td>5350.00</td>\n      <td>5506.00</td>\n    </tr>\n    <tr>\n      <th>7</th>\n      <td>201011</td>\n      <td>Bolesławiec (1)</td>\n      <td>Kobiety wg grup wieku</td>\n      <td>ogółem</td>\n      <td>osoba</td>\n      <td>NaN</td>\n      <td>NaN</td>\n      <td>21806.00</td>\n      <td>21781.00</td>\n      <td>21734.00</td>\n      <td>...</td>\n      <td>21134.00</td>\n      <td>20992.00</td>\n      <td>20866.00</td>\n      <td>20824.00</td>\n      <td>20830.00</td>\n      <td>20731.00</td>\n      <td>20652.00</td>\n      <td>20593.00</td>\n      <td>20571.00</td>\n      <td>20358.00</td>\n    </tr>\n    <tr>\n      <th>8</th>\n      <td>201011</td>\n      <td>Bolesławiec (1)</td>\n      <td>Ludność</td>\n      <td>ludność na 1 km2</td>\n      <td>osoba</td>\n      <td>NaN</td>\n      <td>1814.00</td>\n      <td>1809.00</td>\n      <td>1803.00</td>\n      <td>1797.00</td>\n      <td>...</td>\n      <td>1702.00</td>\n      <td>1691.00</td>\n      <td>1680.00</td>\n      <td>1674.00</td>\n      <td>1670.00</td>\n      <td>1662.00</td>\n      <td>1658.00</td>\n      <td>1652.00</td>\n      <td>1649.00</td>\n      <td>1633.00</td>\n    </tr>\n    <tr>\n      <th>9</th>\n      <td>201011</td>\n      <td>Bolesławiec (1)</td>\n      <td>Ludność</td>\n      <td>przyrost naturalny na 1000 ludności</td>\n      <td>-</td>\n      <td>NaN</td>\n      <td>-0.93</td>\n      <td>-0.12</td>\n      <td>-0.34</td>\n      <td>-0.89</td>\n      <td>...</td>\n      <td>-0.10</td>\n      <td>-2.95</td>\n      <td>-2.79</td>\n      <td>-2.61</td>\n      <td>-3.02</td>\n      <td>-2.75</td>\n      <td>-2.84</td>\n      <td>-3.25</td>\n      <td>-4.38</td>\n      <td>-5.91</td>\n    </tr>\n    <tr>\n      <th>10</th>\n      <td>201011</td>\n      <td>Bolesławiec (1)</td>\n      <td>Ludność</td>\n      <td>urodzenia żywe na 1000 ludności</td>\n      <td>-</td>\n      <td>NaN</td>\n      <td>7.74</td>\n      <td>8.95</td>\n      <td>8.22</td>\n      <td>8.82</td>\n      <td>...</td>\n      <td>9.18</td>\n      <td>8.18</td>\n      <td>7.88</td>\n      <td>8.00</td>\n      <td>7.89</td>\n      <td>8.50</td>\n      <td>8.82</td>\n      <td>8.86</td>\n      <td>8.26</td>\n      <td>7.28</td>\n    </tr>\n    <tr>\n      <th>11</th>\n      <td>201011</td>\n      <td>Bolesławiec (1)</td>\n      <td>Ludność</td>\n      <td>zgony na 1000 ludności</td>\n      <td>-</td>\n      <td>NaN</td>\n      <td>8.67</td>\n      <td>9.07</td>\n      <td>8.56</td>\n      <td>9.71</td>\n      <td>...</td>\n      <td>9.28</td>\n      <td>11.13</td>\n      <td>10.67</td>\n      <td>10.61</td>\n      <td>10.91</td>\n      <td>11.25</td>\n      <td>11.66</td>\n      <td>12.12</td>\n      <td>12.64</td>\n      <td>13.20</td>\n    </tr>\n    <tr>\n      <th>12</th>\n      <td>201011</td>\n      <td>Bolesławiec (1)</td>\n      <td>Ludność wg grup wieku</td>\n      <td>0-14</td>\n      <td>osoba</td>\n      <td>NaN</td>\n      <td>NaN</td>\n      <td>NaN</td>\n      <td>NaN</td>\n      <td>NaN</td>\n      <td>...</td>\n      <td>5274.00</td>\n      <td>5179.00</td>\n      <td>5135.00</td>\n      <td>5166.00</td>\n      <td>5157.00</td>\n      <td>5135.00</td>\n      <td>5185.00</td>\n      <td>5207.00</td>\n      <td>5243.00</td>\n      <td>5168.00</td>\n    </tr>\n    <tr>\n      <th>13</th>\n      <td>201011</td>\n      <td>Bolesławiec (1)</td>\n      <td>Ludność wg grup wieku</td>\n      <td>15-64</td>\n      <td>osoba</td>\n      <td>NaN</td>\n      <td>NaN</td>\n      <td>NaN</td>\n      <td>NaN</td>\n      <td>NaN</td>\n      <td>...</td>\n      <td>28699.00</td>\n      <td>28191.00</td>\n      <td>27716.00</td>\n      <td>27212.00</td>\n      <td>26802.00</td>\n      <td>26241.00</td>\n      <td>25749.00</td>\n      <td>25284.00</td>\n      <td>24968.00</td>\n      <td>24404.00</td>\n    </tr>\n    <tr>\n      <th>14</th>\n      <td>201011</td>\n      <td>Bolesławiec (1)</td>\n      <td>Ludność wg grup wieku</td>\n      <td>65 i więcej</td>\n      <td>osoba</td>\n      <td>NaN</td>\n      <td>NaN</td>\n      <td>5448.00</td>\n      <td>5577.00</td>\n      <td>5700.00</td>\n      <td>...</td>\n      <td>6146.00</td>\n      <td>6481.00</td>\n      <td>6752.00</td>\n      <td>7086.00</td>\n      <td>7414.00</td>\n      <td>7791.00</td>\n      <td>8150.00</td>\n      <td>8444.00</td>\n      <td>8661.00</td>\n      <td>8914.00</td>\n    </tr>\n    <tr>\n      <th>15</th>\n      <td>201011</td>\n      <td>Bolesławiec (1)</td>\n      <td>Ludność wg grup wieku</td>\n      <td>ogółem</td>\n      <td>osoba</td>\n      <td>NaN</td>\n      <td>NaN</td>\n      <td>41263.00</td>\n      <td>41117.00</td>\n      <td>40984.00</td>\n      <td>...</td>\n      <td>40119.00</td>\n      <td>39851.00</td>\n      <td>39603.00</td>\n      <td>39464.00</td>\n      <td>39373.00</td>\n      <td>39167.00</td>\n      <td>39084.00</td>\n      <td>38935.00</td>\n      <td>38872.00</td>\n      <td>38486.00</td>\n    </tr>\n    <tr>\n      <th>16</th>\n      <td>201011</td>\n      <td>Bolesławiec (1)</td>\n      <td>Mężczyźni wg grup wieku</td>\n      <td>0-14</td>\n      <td>osoba</td>\n      <td>NaN</td>\n      <td>NaN</td>\n      <td>NaN</td>\n      <td>NaN</td>\n      <td>NaN</td>\n      <td>...</td>\n      <td>2750.00</td>\n      <td>2643.00</td>\n      <td>2646.00</td>\n      <td>2634.00</td>\n      <td>2596.00</td>\n      <td>2571.00</td>\n      <td>2627.00</td>\n      <td>2628.00</td>\n      <td>2654.00</td>\n      <td>2642.00</td>\n    </tr>\n    <tr>\n      <th>17</th>\n      <td>201011</td>\n      <td>Bolesławiec (1)</td>\n      <td>Mężczyźni wg grup wieku</td>\n      <td>15-64</td>\n      <td>osoba</td>\n      <td>NaN</td>\n      <td>NaN</td>\n      <td>NaN</td>\n      <td>NaN</td>\n      <td>NaN</td>\n      <td>...</td>\n      <td>14013.00</td>\n      <td>13846.00</td>\n      <td>13614.00</td>\n      <td>13386.00</td>\n      <td>13202.00</td>\n      <td>12948.00</td>\n      <td>12741.00</td>\n      <td>12508.00</td>\n      <td>12336.00</td>\n      <td>12078.00</td>\n    </tr>\n    <tr>\n      <th>18</th>\n      <td>201011</td>\n      <td>Bolesławiec (1)</td>\n      <td>Mężczyźni wg grup wieku</td>\n      <td>65 i więcej</td>\n      <td>osoba</td>\n      <td>NaN</td>\n      <td>NaN</td>\n      <td>2081.00</td>\n      <td>2122.00</td>\n      <td>2133.00</td>\n      <td>...</td>\n      <td>2222.00</td>\n      <td>2370.00</td>\n      <td>2477.00</td>\n      <td>2620.00</td>\n      <td>2745.00</td>\n      <td>2917.00</td>\n      <td>3064.00</td>\n      <td>3206.00</td>\n      <td>3311.00</td>\n      <td>3408.00</td>\n    </tr>\n    <tr>\n      <th>19</th>\n      <td>201011</td>\n      <td>Bolesławiec (1)</td>\n      <td>Mężczyźni wg grup wieku</td>\n      <td>ogółem</td>\n      <td>osoba</td>\n      <td>NaN</td>\n      <td>NaN</td>\n      <td>19457.00</td>\n      <td>19336.00</td>\n      <td>19250.00</td>\n      <td>...</td>\n      <td>18985.00</td>\n      <td>18859.00</td>\n      <td>18737.00</td>\n      <td>18640.00</td>\n      <td>18543.00</td>\n      <td>18436.00</td>\n      <td>18432.00</td>\n      <td>18342.00</td>\n      <td>18301.00</td>\n      <td>18128.00</td>\n    </tr>\n  </tbody>\n</table>\n<p>20 rows × 25 columns</p>\n</div>"
     },
     "execution_count": 30,
     "metadata": {},
     "output_type": "execute_result"
    }
   ],
   "source": [
    "# Problematyczne operowanie po wieloindeksowej tabeli\n",
    "print(df_only_gminy_pivot.first_valid_index())\n",
    "\n",
    "# Rozwiązanie problemu poprzez spłaszczenie pivotu do dataframe'u\n",
    "\n",
    "df_only_gminy_piv_flatten = pd.DataFrame(df_only_gminy_pivot.to_records())\n",
    "df_only_gminy_piv_flatten.head(20)"
   ],
   "metadata": {
    "collapsed": false,
    "pycharm": {
     "name": "#%%\n"
    }
   }
  },
  {
   "cell_type": "code",
   "execution_count": 25,
   "outputs": [
    {
     "name": "stdout",
     "output_type": "stream",
     "text": [
      "Na 2020 rok jest 4210 NaN'ów z 68612 wartości \n",
      "Stanowi to 6.14% całości\n"
     ]
    }
   ],
   "source": [
    "# NaN wartości\n",
    "nan_2020 = len(df_only_gminy_piv_flatten[df_only_gminy_piv_flatten['2020'].isna()])\n",
    "all_val = len(df_only_gminy_piv_flatten)\n",
    "print(f\"Na 2020 rok jest {nan_2020} NaN'ów z {all_val} wartości \\nStanowi to {round(nan_2020/all_val*100,2)}% całości\")"
   ],
   "metadata": {
    "collapsed": false,
    "pycharm": {
     "name": "#%%\n"
    }
   }
  },
  {
   "cell_type": "code",
   "execution_count": 33,
   "outputs": [
    {
     "data": {
      "text/plain": "    Kod   Nazwa Kategoria                                            Zmienna  \\\n0     0  POLSKA  Artykuły                                             cukier   \n1     0  POLSKA  Artykuły                                               jaja   \n2     0  POLSKA  Artykuły                                            jogurty   \n3     0  POLSKA  Artykuły                           jogurty i napoje mleczne   \n4     0  POLSKA  Artykuły                                              mięso   \n5     0  POLSKA  Artykuły                                       mięso surowe   \n6     0  POLSKA  Artykuły                              mięso surowe drobiowe   \n7     0  POLSKA  Artykuły  mleko (bez zagęszczonego i w proszku), napoje ...   \n8     0  POLSKA  Artykuły                                       mleko świeże   \n9     0  POLSKA  Artykuły                                   oleje i tłuszcze   \n10    0  POLSKA  Artykuły                                              owoce   \n11    0  POLSKA  Artykuły                                           pieczywo   \n12    0  POLSKA  Artykuły                        pieczywo i produkty zbożowe   \n13    0  POLSKA  Artykuły                                               ryby   \n14    0  POLSKA  Artykuły                                 ryby i owoce morza   \n15    0  POLSKA  Artykuły                                     sery i twarogi   \n16    0  POLSKA  Artykuły                                            warzywa   \n17    0  POLSKA  Artykuły                                            wędliny   \n18    0  POLSKA  Artykuły                    wędliny i inne przetwory mięsne   \n19    0  POLSKA  Artykuły                                          ziemniaki   \n\n   Jednostka miary  1998  1999  2000  2001  2002  ...   2011   2012   2013  \\\n0               kg   NaN   NaN   NaN   NaN   NaN  ...   1.18   1.20   1.17   \n1             szt.   NaN   NaN   NaN   NaN   NaN  ...  12.54  12.50  12.17   \n2               kg   NaN   NaN   NaN   NaN   NaN  ...    NaN    NaN   0.51   \n3               kg   NaN   NaN   NaN   NaN   NaN  ...   0.82   0.80    NaN   \n4               kg   NaN   NaN   NaN   NaN   NaN  ...   5.48   5.42   5.26   \n5               kg   NaN   NaN   NaN   NaN   NaN  ...    NaN    NaN   2.96   \n6               kg   NaN   NaN   NaN   NaN   NaN  ...    NaN    NaN   1.51   \n7                l   NaN   NaN   NaN   NaN   NaN  ...    NaN    NaN    NaN   \n8                l   NaN   NaN   NaN   NaN   NaN  ...   3.42   3.41   3.35   \n9               kg   NaN   NaN   NaN   NaN   NaN  ...   1.31   1.31   1.23   \n10              kg   NaN   NaN   NaN   NaN   NaN  ...   3.29   3.45   3.43   \n11              kg   NaN   NaN   NaN   NaN   NaN  ...    NaN    NaN    NaN   \n12              kg   NaN   NaN   NaN   NaN   NaN  ...   6.70   6.60   6.45   \n13              kg   NaN   NaN   NaN   NaN   NaN  ...   0.43   0.42    NaN   \n14              kg   NaN   NaN   NaN   NaN   NaN  ...    NaN    NaN   0.34   \n15              kg   NaN   NaN   NaN   NaN   NaN  ...   0.94   0.95   0.83   \n16              kg   NaN   NaN   NaN   NaN   NaN  ...   9.88   9.60   9.03   \n17              kg   NaN   NaN   NaN   NaN   NaN  ...    NaN    NaN   2.05   \n18              kg   NaN   NaN   NaN   NaN   NaN  ...    NaN    NaN    NaN   \n19              kg   NaN   NaN   NaN   NaN   NaN  ...    NaN    NaN    NaN   \n\n     2014   2015   2016   2017   2018   2019   2020  \n0    1.19   1.09   1.01   0.93   0.94   0.80   0.84  \n1   12.02  11.76  11.64  11.42  11.09  10.99  11.04  \n2    0.50   0.50   0.53   0.52   0.52   0.54   0.57  \n3     NaN    NaN    NaN    NaN    NaN    NaN    NaN  \n4    5.29   5.27   5.32   5.28   5.20   5.08   5.09  \n5    3.00   3.02   3.04   3.00   2.96   2.87   2.90  \n6    1.53   1.53   1.57   1.56   1.53   1.53   1.55  \n7     NaN    NaN    NaN    NaN    NaN    NaN    NaN  \n8    3.26   3.15   3.08   2.99   2.94   2.87   3.06  \n9    1.21   1.15   1.13   1.11   1.07   1.05   1.08  \n10   3.59   3.59   3.66   3.64   3.75   3.79   3.86  \n11    NaN   3.74   3.52   3.31   3.15   2.98   2.75  \n12   6.26   6.06   5.88   5.67   5.48   5.36   5.31  \n13    NaN    NaN    NaN    NaN    NaN    NaN    NaN  \n14   0.33   0.33   0.32   0.29   0.28   0.27   0.27  \n15   0.82   0.83   0.85   0.86   0.87   0.89   0.95  \n16   8.99   8.68   8.59   8.24   7.92   7.61   7.72  \n17    NaN    NaN    NaN    NaN    NaN    NaN    NaN  \n18   2.03   2.00   2.03   2.04   2.00   1.97   1.96  \n19    NaN   3.69   3.48   3.16   2.97   2.75   2.68  \n\n[20 rows x 28 columns]",
      "text/html": "<div>\n<style scoped>\n    .dataframe tbody tr th:only-of-type {\n        vertical-align: middle;\n    }\n\n    .dataframe tbody tr th {\n        vertical-align: top;\n    }\n\n    .dataframe thead th {\n        text-align: right;\n    }\n</style>\n<table border=\"1\" class=\"dataframe\">\n  <thead>\n    <tr style=\"text-align: right;\">\n      <th></th>\n      <th>Kod</th>\n      <th>Nazwa</th>\n      <th>Kategoria</th>\n      <th>Zmienna</th>\n      <th>Jednostka miary</th>\n      <th>1998</th>\n      <th>1999</th>\n      <th>2000</th>\n      <th>2001</th>\n      <th>2002</th>\n      <th>...</th>\n      <th>2011</th>\n      <th>2012</th>\n      <th>2013</th>\n      <th>2014</th>\n      <th>2015</th>\n      <th>2016</th>\n      <th>2017</th>\n      <th>2018</th>\n      <th>2019</th>\n      <th>2020</th>\n    </tr>\n  </thead>\n  <tbody>\n    <tr>\n      <th>0</th>\n      <td>0</td>\n      <td>POLSKA</td>\n      <td>Artykuły</td>\n      <td>cukier</td>\n      <td>kg</td>\n      <td>NaN</td>\n      <td>NaN</td>\n      <td>NaN</td>\n      <td>NaN</td>\n      <td>NaN</td>\n      <td>...</td>\n      <td>1.18</td>\n      <td>1.20</td>\n      <td>1.17</td>\n      <td>1.19</td>\n      <td>1.09</td>\n      <td>1.01</td>\n      <td>0.93</td>\n      <td>0.94</td>\n      <td>0.80</td>\n      <td>0.84</td>\n    </tr>\n    <tr>\n      <th>1</th>\n      <td>0</td>\n      <td>POLSKA</td>\n      <td>Artykuły</td>\n      <td>jaja</td>\n      <td>szt.</td>\n      <td>NaN</td>\n      <td>NaN</td>\n      <td>NaN</td>\n      <td>NaN</td>\n      <td>NaN</td>\n      <td>...</td>\n      <td>12.54</td>\n      <td>12.50</td>\n      <td>12.17</td>\n      <td>12.02</td>\n      <td>11.76</td>\n      <td>11.64</td>\n      <td>11.42</td>\n      <td>11.09</td>\n      <td>10.99</td>\n      <td>11.04</td>\n    </tr>\n    <tr>\n      <th>2</th>\n      <td>0</td>\n      <td>POLSKA</td>\n      <td>Artykuły</td>\n      <td>jogurty</td>\n      <td>kg</td>\n      <td>NaN</td>\n      <td>NaN</td>\n      <td>NaN</td>\n      <td>NaN</td>\n      <td>NaN</td>\n      <td>...</td>\n      <td>NaN</td>\n      <td>NaN</td>\n      <td>0.51</td>\n      <td>0.50</td>\n      <td>0.50</td>\n      <td>0.53</td>\n      <td>0.52</td>\n      <td>0.52</td>\n      <td>0.54</td>\n      <td>0.57</td>\n    </tr>\n    <tr>\n      <th>3</th>\n      <td>0</td>\n      <td>POLSKA</td>\n      <td>Artykuły</td>\n      <td>jogurty i napoje mleczne</td>\n      <td>kg</td>\n      <td>NaN</td>\n      <td>NaN</td>\n      <td>NaN</td>\n      <td>NaN</td>\n      <td>NaN</td>\n      <td>...</td>\n      <td>0.82</td>\n      <td>0.80</td>\n      <td>NaN</td>\n      <td>NaN</td>\n      <td>NaN</td>\n      <td>NaN</td>\n      <td>NaN</td>\n      <td>NaN</td>\n      <td>NaN</td>\n      <td>NaN</td>\n    </tr>\n    <tr>\n      <th>4</th>\n      <td>0</td>\n      <td>POLSKA</td>\n      <td>Artykuły</td>\n      <td>mięso</td>\n      <td>kg</td>\n      <td>NaN</td>\n      <td>NaN</td>\n      <td>NaN</td>\n      <td>NaN</td>\n      <td>NaN</td>\n      <td>...</td>\n      <td>5.48</td>\n      <td>5.42</td>\n      <td>5.26</td>\n      <td>5.29</td>\n      <td>5.27</td>\n      <td>5.32</td>\n      <td>5.28</td>\n      <td>5.20</td>\n      <td>5.08</td>\n      <td>5.09</td>\n    </tr>\n    <tr>\n      <th>5</th>\n      <td>0</td>\n      <td>POLSKA</td>\n      <td>Artykuły</td>\n      <td>mięso surowe</td>\n      <td>kg</td>\n      <td>NaN</td>\n      <td>NaN</td>\n      <td>NaN</td>\n      <td>NaN</td>\n      <td>NaN</td>\n      <td>...</td>\n      <td>NaN</td>\n      <td>NaN</td>\n      <td>2.96</td>\n      <td>3.00</td>\n      <td>3.02</td>\n      <td>3.04</td>\n      <td>3.00</td>\n      <td>2.96</td>\n      <td>2.87</td>\n      <td>2.90</td>\n    </tr>\n    <tr>\n      <th>6</th>\n      <td>0</td>\n      <td>POLSKA</td>\n      <td>Artykuły</td>\n      <td>mięso surowe drobiowe</td>\n      <td>kg</td>\n      <td>NaN</td>\n      <td>NaN</td>\n      <td>NaN</td>\n      <td>NaN</td>\n      <td>NaN</td>\n      <td>...</td>\n      <td>NaN</td>\n      <td>NaN</td>\n      <td>1.51</td>\n      <td>1.53</td>\n      <td>1.53</td>\n      <td>1.57</td>\n      <td>1.56</td>\n      <td>1.53</td>\n      <td>1.53</td>\n      <td>1.55</td>\n    </tr>\n    <tr>\n      <th>7</th>\n      <td>0</td>\n      <td>POLSKA</td>\n      <td>Artykuły</td>\n      <td>mleko (bez zagęszczonego i w proszku), napoje ...</td>\n      <td>l</td>\n      <td>NaN</td>\n      <td>NaN</td>\n      <td>NaN</td>\n      <td>NaN</td>\n      <td>NaN</td>\n      <td>...</td>\n      <td>NaN</td>\n      <td>NaN</td>\n      <td>NaN</td>\n      <td>NaN</td>\n      <td>NaN</td>\n      <td>NaN</td>\n      <td>NaN</td>\n      <td>NaN</td>\n      <td>NaN</td>\n      <td>NaN</td>\n    </tr>\n    <tr>\n      <th>8</th>\n      <td>0</td>\n      <td>POLSKA</td>\n      <td>Artykuły</td>\n      <td>mleko świeże</td>\n      <td>l</td>\n      <td>NaN</td>\n      <td>NaN</td>\n      <td>NaN</td>\n      <td>NaN</td>\n      <td>NaN</td>\n      <td>...</td>\n      <td>3.42</td>\n      <td>3.41</td>\n      <td>3.35</td>\n      <td>3.26</td>\n      <td>3.15</td>\n      <td>3.08</td>\n      <td>2.99</td>\n      <td>2.94</td>\n      <td>2.87</td>\n      <td>3.06</td>\n    </tr>\n    <tr>\n      <th>9</th>\n      <td>0</td>\n      <td>POLSKA</td>\n      <td>Artykuły</td>\n      <td>oleje i tłuszcze</td>\n      <td>kg</td>\n      <td>NaN</td>\n      <td>NaN</td>\n      <td>NaN</td>\n      <td>NaN</td>\n      <td>NaN</td>\n      <td>...</td>\n      <td>1.31</td>\n      <td>1.31</td>\n      <td>1.23</td>\n      <td>1.21</td>\n      <td>1.15</td>\n      <td>1.13</td>\n      <td>1.11</td>\n      <td>1.07</td>\n      <td>1.05</td>\n      <td>1.08</td>\n    </tr>\n    <tr>\n      <th>10</th>\n      <td>0</td>\n      <td>POLSKA</td>\n      <td>Artykuły</td>\n      <td>owoce</td>\n      <td>kg</td>\n      <td>NaN</td>\n      <td>NaN</td>\n      <td>NaN</td>\n      <td>NaN</td>\n      <td>NaN</td>\n      <td>...</td>\n      <td>3.29</td>\n      <td>3.45</td>\n      <td>3.43</td>\n      <td>3.59</td>\n      <td>3.59</td>\n      <td>3.66</td>\n      <td>3.64</td>\n      <td>3.75</td>\n      <td>3.79</td>\n      <td>3.86</td>\n    </tr>\n    <tr>\n      <th>11</th>\n      <td>0</td>\n      <td>POLSKA</td>\n      <td>Artykuły</td>\n      <td>pieczywo</td>\n      <td>kg</td>\n      <td>NaN</td>\n      <td>NaN</td>\n      <td>NaN</td>\n      <td>NaN</td>\n      <td>NaN</td>\n      <td>...</td>\n      <td>NaN</td>\n      <td>NaN</td>\n      <td>NaN</td>\n      <td>NaN</td>\n      <td>3.74</td>\n      <td>3.52</td>\n      <td>3.31</td>\n      <td>3.15</td>\n      <td>2.98</td>\n      <td>2.75</td>\n    </tr>\n    <tr>\n      <th>12</th>\n      <td>0</td>\n      <td>POLSKA</td>\n      <td>Artykuły</td>\n      <td>pieczywo i produkty zbożowe</td>\n      <td>kg</td>\n      <td>NaN</td>\n      <td>NaN</td>\n      <td>NaN</td>\n      <td>NaN</td>\n      <td>NaN</td>\n      <td>...</td>\n      <td>6.70</td>\n      <td>6.60</td>\n      <td>6.45</td>\n      <td>6.26</td>\n      <td>6.06</td>\n      <td>5.88</td>\n      <td>5.67</td>\n      <td>5.48</td>\n      <td>5.36</td>\n      <td>5.31</td>\n    </tr>\n    <tr>\n      <th>13</th>\n      <td>0</td>\n      <td>POLSKA</td>\n      <td>Artykuły</td>\n      <td>ryby</td>\n      <td>kg</td>\n      <td>NaN</td>\n      <td>NaN</td>\n      <td>NaN</td>\n      <td>NaN</td>\n      <td>NaN</td>\n      <td>...</td>\n      <td>0.43</td>\n      <td>0.42</td>\n      <td>NaN</td>\n      <td>NaN</td>\n      <td>NaN</td>\n      <td>NaN</td>\n      <td>NaN</td>\n      <td>NaN</td>\n      <td>NaN</td>\n      <td>NaN</td>\n    </tr>\n    <tr>\n      <th>14</th>\n      <td>0</td>\n      <td>POLSKA</td>\n      <td>Artykuły</td>\n      <td>ryby i owoce morza</td>\n      <td>kg</td>\n      <td>NaN</td>\n      <td>NaN</td>\n      <td>NaN</td>\n      <td>NaN</td>\n      <td>NaN</td>\n      <td>...</td>\n      <td>NaN</td>\n      <td>NaN</td>\n      <td>0.34</td>\n      <td>0.33</td>\n      <td>0.33</td>\n      <td>0.32</td>\n      <td>0.29</td>\n      <td>0.28</td>\n      <td>0.27</td>\n      <td>0.27</td>\n    </tr>\n    <tr>\n      <th>15</th>\n      <td>0</td>\n      <td>POLSKA</td>\n      <td>Artykuły</td>\n      <td>sery i twarogi</td>\n      <td>kg</td>\n      <td>NaN</td>\n      <td>NaN</td>\n      <td>NaN</td>\n      <td>NaN</td>\n      <td>NaN</td>\n      <td>...</td>\n      <td>0.94</td>\n      <td>0.95</td>\n      <td>0.83</td>\n      <td>0.82</td>\n      <td>0.83</td>\n      <td>0.85</td>\n      <td>0.86</td>\n      <td>0.87</td>\n      <td>0.89</td>\n      <td>0.95</td>\n    </tr>\n    <tr>\n      <th>16</th>\n      <td>0</td>\n      <td>POLSKA</td>\n      <td>Artykuły</td>\n      <td>warzywa</td>\n      <td>kg</td>\n      <td>NaN</td>\n      <td>NaN</td>\n      <td>NaN</td>\n      <td>NaN</td>\n      <td>NaN</td>\n      <td>...</td>\n      <td>9.88</td>\n      <td>9.60</td>\n      <td>9.03</td>\n      <td>8.99</td>\n      <td>8.68</td>\n      <td>8.59</td>\n      <td>8.24</td>\n      <td>7.92</td>\n      <td>7.61</td>\n      <td>7.72</td>\n    </tr>\n    <tr>\n      <th>17</th>\n      <td>0</td>\n      <td>POLSKA</td>\n      <td>Artykuły</td>\n      <td>wędliny</td>\n      <td>kg</td>\n      <td>NaN</td>\n      <td>NaN</td>\n      <td>NaN</td>\n      <td>NaN</td>\n      <td>NaN</td>\n      <td>...</td>\n      <td>NaN</td>\n      <td>NaN</td>\n      <td>2.05</td>\n      <td>NaN</td>\n      <td>NaN</td>\n      <td>NaN</td>\n      <td>NaN</td>\n      <td>NaN</td>\n      <td>NaN</td>\n      <td>NaN</td>\n    </tr>\n    <tr>\n      <th>18</th>\n      <td>0</td>\n      <td>POLSKA</td>\n      <td>Artykuły</td>\n      <td>wędliny i inne przetwory mięsne</td>\n      <td>kg</td>\n      <td>NaN</td>\n      <td>NaN</td>\n      <td>NaN</td>\n      <td>NaN</td>\n      <td>NaN</td>\n      <td>...</td>\n      <td>NaN</td>\n      <td>NaN</td>\n      <td>NaN</td>\n      <td>2.03</td>\n      <td>2.00</td>\n      <td>2.03</td>\n      <td>2.04</td>\n      <td>2.00</td>\n      <td>1.97</td>\n      <td>1.96</td>\n    </tr>\n    <tr>\n      <th>19</th>\n      <td>0</td>\n      <td>POLSKA</td>\n      <td>Artykuły</td>\n      <td>ziemniaki</td>\n      <td>kg</td>\n      <td>NaN</td>\n      <td>NaN</td>\n      <td>NaN</td>\n      <td>NaN</td>\n      <td>NaN</td>\n      <td>...</td>\n      <td>NaN</td>\n      <td>NaN</td>\n      <td>NaN</td>\n      <td>NaN</td>\n      <td>3.69</td>\n      <td>3.48</td>\n      <td>3.16</td>\n      <td>2.97</td>\n      <td>2.75</td>\n      <td>2.68</td>\n    </tr>\n  </tbody>\n</table>\n<p>20 rows × 28 columns</p>\n</div>"
     },
     "execution_count": 33,
     "metadata": {},
     "output_type": "execute_result"
    }
   ],
   "source": [
    "# Preprocessing ludnosc.csv. Podział na województwa, przedstawienie ich statystyk itd.\n",
    "\n",
    "# Ujednolicenie wartości\n",
    "df_ludnosc['Wartosc'] = df_ludnosc['Wartosc'].apply(str).str.replace(',','.').apply(float)\n",
    "\n",
    "# Pivot z dataframe'u\n",
    "df_ludnosc_pivot = df_ludnosc.pivot_table(columns='Rok', index=['Kod','Nazwa','Kategoria','Zmienna','Jednostka miary'],values='Wartosc')\n",
    "\n",
    "# Spłaszczenie pivot table\n",
    "df_ludnosc_pivot_flatten = pd.DataFrame(df_ludnosc_pivot.to_records())\n",
    "df_ludnosc_pivot_flatten.head(20)"
   ],
   "metadata": {
    "collapsed": false,
    "pycharm": {
     "name": "#%%\n"
    }
   }
  }
 ],
 "metadata": {
  "kernelspec": {
   "display_name": "Python 3",
   "language": "python",
   "name": "python3"
  },
  "language_info": {
   "codemirror_mode": {
    "name": "ipython",
    "version": 3
   },
   "file_extension": ".py",
   "mimetype": "text/x-python",
   "name": "python",
   "nbconvert_exporter": "python",
   "pygments_lexer": "ipython3",
   "version": "3.8.5"
  }
 },
 "nbformat": 4,
 "nbformat_minor": 4
}